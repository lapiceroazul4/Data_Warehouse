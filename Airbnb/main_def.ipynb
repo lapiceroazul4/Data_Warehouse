{
 "cells": [
  {
   "cell_type": "code",
   "execution_count": 1,
   "id": "initial_id",
   "metadata": {
    "collapsed": true,
    "ExecuteTime": {
     "end_time": "2023-09-02T17:31:24.858414700Z",
     "start_time": "2023-09-02T17:31:22.890046300Z"
    }
   },
   "outputs": [],
   "source": [
    "#importando librerias\n",
    "import pandas as pd\n",
    "import numpy as np\n",
    "import seaborn as sns\n",
    "from pymongo import MongoClient\n",
    "\n",
    "from Database import Airbnbs, Hosts, Airbnb_Details, Neighbourhoods, creating_engine, creating_session, closing_session"
   ]
  },
  {
   "cell_type": "code",
   "execution_count": 32,
   "id": "db87eb5c",
   "metadata": {
    "ExecuteTime": {
     "end_time": "2023-09-02T17:17:33.848983600Z",
     "start_time": "2023-09-02T17:17:32.253438100Z"
    }
   },
   "outputs": [],
   "source": [
    "#Creating engine\n",
    "#engine1 = creating_engine()\n",
    "\n",
    "#Creating session\n",
    "#session1 = creating_session(engine1)"
   ]
  },
  {
   "cell_type": "markdown",
   "id": "897969b6",
   "metadata": {},
   "source": [
    "## Proceso de Exploración"
   ]
  },
  {
   "cell_type": "markdown",
   "id": "31ae3036de14af47",
   "metadata": {
    "collapsed": false
   },
   "source": [
    "### Leemos el archivo como un dataframe usando pandas"
   ]
  },
  {
   "cell_type": "code",
   "execution_count": 2,
   "id": "ca1c3c2ea572b0c2",
   "metadata": {
    "collapsed": false,
    "ExecuteTime": {
     "end_time": "2023-09-02T17:31:26.050126300Z",
     "start_time": "2023-09-02T17:31:24.879412800Z"
    }
   },
   "outputs": [
    {
     "name": "stderr",
     "output_type": "stream",
     "text": [
      "C:\\Users\\Guatavo\\AppData\\Local\\Temp\\ipykernel_4344\\711940074.py:1: DtypeWarning: Columns (25) have mixed types. Specify dtype option on import or set low_memory=False.\n",
      "  df_airbnb=pd.read_csv(\"Airbnb_Open_Data.csv\",  na_values=[''])\n"
     ]
    },
    {
     "data": {
      "text/plain": "        id                                NAME      host id  \\\n0  1001254  Clean & quiet apt home by the park  80014485718   \n1  1002102               Skylit Midtown Castle  52335172823   \n\n  host_identity_verified host name neighbourhood group neighbourhood  \\\n0            unconfirmed  Madaline            Brooklyn    Kensington   \n1               verified     Jenna           Manhattan       Midtown   \n\n        lat      long        country  ... service fee minimum nights  \\\n0  40.64749 -73.97237  United States  ...       $193            10.0   \n1  40.75362 -73.98377  United States  ...        $28            30.0   \n\n  number of reviews last review  reviews per month review rate number  \\\n0               9.0  10/19/2021               0.21                4.0   \n1              45.0   5/21/2022               0.38                4.0   \n\n  calculated host listings count  availability 365  \\\n0                            6.0             286.0   \n1                            2.0             228.0   \n\n                                         house_rules license  \n0  Clean up and treat the home the way you'd like...     NaN  \n1  Pet friendly but please confirm with me if the...     NaN  \n\n[2 rows x 26 columns]",
      "text/html": "<div>\n<style scoped>\n    .dataframe tbody tr th:only-of-type {\n        vertical-align: middle;\n    }\n\n    .dataframe tbody tr th {\n        vertical-align: top;\n    }\n\n    .dataframe thead th {\n        text-align: right;\n    }\n</style>\n<table border=\"1\" class=\"dataframe\">\n  <thead>\n    <tr style=\"text-align: right;\">\n      <th></th>\n      <th>id</th>\n      <th>NAME</th>\n      <th>host id</th>\n      <th>host_identity_verified</th>\n      <th>host name</th>\n      <th>neighbourhood group</th>\n      <th>neighbourhood</th>\n      <th>lat</th>\n      <th>long</th>\n      <th>country</th>\n      <th>...</th>\n      <th>service fee</th>\n      <th>minimum nights</th>\n      <th>number of reviews</th>\n      <th>last review</th>\n      <th>reviews per month</th>\n      <th>review rate number</th>\n      <th>calculated host listings count</th>\n      <th>availability 365</th>\n      <th>house_rules</th>\n      <th>license</th>\n    </tr>\n  </thead>\n  <tbody>\n    <tr>\n      <th>0</th>\n      <td>1001254</td>\n      <td>Clean &amp; quiet apt home by the park</td>\n      <td>80014485718</td>\n      <td>unconfirmed</td>\n      <td>Madaline</td>\n      <td>Brooklyn</td>\n      <td>Kensington</td>\n      <td>40.64749</td>\n      <td>-73.97237</td>\n      <td>United States</td>\n      <td>...</td>\n      <td>$193</td>\n      <td>10.0</td>\n      <td>9.0</td>\n      <td>10/19/2021</td>\n      <td>0.21</td>\n      <td>4.0</td>\n      <td>6.0</td>\n      <td>286.0</td>\n      <td>Clean up and treat the home the way you'd like...</td>\n      <td>NaN</td>\n    </tr>\n    <tr>\n      <th>1</th>\n      <td>1002102</td>\n      <td>Skylit Midtown Castle</td>\n      <td>52335172823</td>\n      <td>verified</td>\n      <td>Jenna</td>\n      <td>Manhattan</td>\n      <td>Midtown</td>\n      <td>40.75362</td>\n      <td>-73.98377</td>\n      <td>United States</td>\n      <td>...</td>\n      <td>$28</td>\n      <td>30.0</td>\n      <td>45.0</td>\n      <td>5/21/2022</td>\n      <td>0.38</td>\n      <td>4.0</td>\n      <td>2.0</td>\n      <td>228.0</td>\n      <td>Pet friendly but please confirm with me if the...</td>\n      <td>NaN</td>\n    </tr>\n  </tbody>\n</table>\n<p>2 rows × 26 columns</p>\n</div>"
     },
     "execution_count": 2,
     "metadata": {},
     "output_type": "execute_result"
    }
   ],
   "source": [
    "df_airbnb=pd.read_csv(\"Airbnb_Open_Data.csv\",  na_values=[''])\n",
    "df_airbnb.head(2)"
   ]
  },
  {
   "cell_type": "markdown",
   "id": "a9e73a38",
   "metadata": {},
   "source": [
    "### Se hacen ajustes a ciertas columnas con el fin de poder subir el csv a la base de datos "
   ]
  },
  {
   "cell_type": "code",
   "execution_count": 3,
   "id": "82630eb1",
   "metadata": {
    "ExecuteTime": {
     "end_time": "2023-09-02T17:31:32.277816500Z",
     "start_time": "2023-09-02T17:31:28.865976700Z"
    }
   },
   "outputs": [],
   "source": [
    "#Usamos regrex para evitar los caracteres especiales y númericos\n",
    "df_airbnb[\"NAME\"] = df_airbnb[\"NAME\"].str.replace(r'[^a-zA-Z\\s]', '', regex=True)\n",
    "df_airbnb[\"house_rules\"] = df_airbnb[\"house_rules\"].str.replace(r'[^a-zA-Z0-9\\s]', '', regex=True)\n",
    "df_airbnb[\"host name\"] = df_airbnb[\"host name\"].str.replace(r'[^a-zA-Z\\s]', '', regex=True)\n",
    "\n",
    "#Dropeamos aquellas columnas que no aportan un valor signficante al código \n",
    "df_airbnb.drop([\"license\", \"country\", \"country code\"], axis=1, inplace=True)\n",
    "\n",
    "#Quitamos los valores nulos del host name\n",
    "df_airbnb[\"host name\"].fillna(\"no provided\") \n",
    "\n",
    "#Admitimos solo valores positivos para la columna minimum nights\n",
    "df_airbnb[\"minimum nights\"] = df_airbnb[\"minimum nights\"].abs()\n",
    "\n",
    "df_airbnb.to_csv(\"import.csv\", encoding=\"utf-8\", index=False)"
   ]
  },
  {
   "cell_type": "markdown",
   "source": [
    "## Conectarse a MongoDB"
   ],
   "metadata": {
    "collapsed": false
   },
   "id": "7308e1f5666db72"
  },
  {
   "cell_type": "code",
   "execution_count": 4,
   "outputs": [],
   "source": [
    "client = MongoClient('localhost', 27017)\n",
    "\n",
    "# Seleccionar la base de datos y la colección\n",
    "db = client['airbnb3']\n",
    "collection = db['airbnb_collection3']\n"
   ],
   "metadata": {
    "collapsed": false,
    "ExecuteTime": {
     "end_time": "2023-09-02T17:32:23.812988800Z",
     "start_time": "2023-09-02T17:32:23.726515600Z"
    }
   },
   "id": "c41d775e6341f415"
  },
  {
   "cell_type": "markdown",
   "source": [
    "## Convertir el DataFrame en un formato que MongoDB pueda manejar "
   ],
   "metadata": {
    "collapsed": false
   },
   "id": "38b47cf0a7c08846"
  },
  {
   "cell_type": "code",
   "execution_count": 6,
   "outputs": [
    {
     "data": {
      "text/plain": "<pymongo.results.InsertManyResult at 0x2a0aaf6ea90>"
     },
     "execution_count": 6,
     "metadata": {},
     "output_type": "execute_result"
    }
   ],
   "source": [
    "records = df_airbnb.to_dict(orient='records')\n",
    "\n",
    "# Insertar los registros en la colección\n",
    "collection.insert_many(records)\n"
   ],
   "metadata": {
    "collapsed": false,
    "ExecuteTime": {
     "end_time": "2023-09-02T17:35:20.091424200Z",
     "start_time": "2023-09-02T17:35:12.379706500Z"
    }
   },
   "id": "1fc4ba98ee629a94"
  },
  {
   "cell_type": "markdown",
   "source": [
    "## Consulta para recuperar todos los documentos de la colección y convertirlos en una lista\n"
   ],
   "metadata": {
    "collapsed": false
   },
   "id": "2fd3f38a2366d6fa"
  },
  {
   "cell_type": "code",
   "execution_count": 7,
   "outputs": [],
   "source": [
    "documents = list(collection.find({}))\n",
    "\n",
    "# Crear un DataFrame a partir de la lista de documentos\n",
    "df_airbnb = pd.DataFrame(documents)\n",
    "\n",
    "# Cerrar la conexión a MongoDB\n",
    "client.close()"
   ],
   "metadata": {
    "collapsed": false,
    "ExecuteTime": {
     "end_time": "2023-09-02T17:35:54.216241600Z",
     "start_time": "2023-09-02T17:35:48.662322200Z"
    }
   },
   "id": "436c06b71dc9a36b"
  },
  {
   "cell_type": "code",
   "execution_count": 8,
   "outputs": [
    {
     "data": {
      "text/plain": "                             _id       id  \\\n0       64f37253c71f97a2a90d1226  1001254   \n1       64f37253c71f97a2a90d1227  1002102   \n2       64f37253c71f97a2a90d1228  1002403   \n3       64f37253c71f97a2a90d1229  1002755   \n4       64f37253c71f97a2a90d122a  1003689   \n...                          ...      ...   \n102594  64f37254c71f97a2a90ea2e8  6092437   \n102595  64f37254c71f97a2a90ea2e9  6092990   \n102596  64f37254c71f97a2a90ea2ea  6093542   \n102597  64f37254c71f97a2a90ea2eb  6094094   \n102598  64f37254c71f97a2a90ea2ec  6094647   \n\n                                                  NAME      host id  \\\n0                    Clean  quiet apt home by the park  80014485718   \n1                                Skylit Midtown Castle  52335172823   \n2                       THE VILLAGE OF HARLEMNEW YORK   78829239556   \n3                                                  NaN  85098326012   \n4       Entire Apt Spacious StudioLoft by central park  92037596077   \n...                                                ...          ...   \n102594                      Spare room in Williamsburg  12312296767   \n102595                   Best Location near Columbia U  77864383453   \n102596                   Comfy bright room in Brooklyn  69050334417   \n102597                 Big StudioOne Stop from Midtown  11160591270   \n102598                                sf Luxury Studio  68170633372   \n\n       host_identity_verified    host name neighbourhood group  \\\n0                 unconfirmed     Madaline            Brooklyn   \n1                    verified        Jenna           Manhattan   \n2                         NaN        Elise           Manhattan   \n3                 unconfirmed        Garry            Brooklyn   \n4                    verified       Lyndon           Manhattan   \n...                       ...          ...                 ...   \n102594               verified         Krik            Brooklyn   \n102595            unconfirmed        Mifan           Manhattan   \n102596            unconfirmed        Megan            Brooklyn   \n102597            unconfirmed  Christopher              Queens   \n102598            unconfirmed      Rebecca           Manhattan   \n\n              neighbourhood       lat      long  ...    price service fee  \\\n0                Kensington  40.64749 -73.97237  ...    $966        $193    \n1                   Midtown  40.75362 -73.98377  ...    $142         $28    \n2                    Harlem  40.80902 -73.94190  ...    $620        $124    \n3              Clinton Hill  40.68514 -73.95976  ...    $368         $74    \n4               East Harlem  40.79851 -73.94399  ...    $204         $41    \n...                     ...       ...       ...  ...      ...         ...   \n102594         Williamsburg  40.70862 -73.94651  ...    $844        $169    \n102595  Morningside Heights  40.80460 -73.96545  ...    $837        $167    \n102596           Park Slope  40.67505 -73.98045  ...    $988        $198    \n102597     Long Island City  40.74989 -73.93777  ...    $546        $109    \n102598      Upper West Side  40.76807 -73.98342  ...  $1,032        $206    \n\n       minimum nights  number of reviews last review reviews per month  \\\n0                10.0                9.0  10/19/2021              0.21   \n1                30.0               45.0   5/21/2022              0.38   \n2                 3.0                0.0         NaN               NaN   \n3                30.0              270.0    7/5/2019              4.64   \n4                10.0                9.0  11/19/2018              0.10   \n...               ...                ...         ...               ...   \n102594            1.0                0.0         NaN               NaN   \n102595            1.0                1.0    7/6/2015              0.02   \n102596            3.0                0.0         NaN               NaN   \n102597            2.0                5.0  10/11/2015              0.10   \n102598            1.0                0.0         NaN               NaN   \n\n        review rate number  calculated host listings count availability 365  \\\n0                      4.0                             6.0            286.0   \n1                      4.0                             2.0            228.0   \n2                      5.0                             1.0            352.0   \n3                      4.0                             1.0            322.0   \n4                      3.0                             1.0            289.0   \n...                    ...                             ...              ...   \n102594                 3.0                             1.0            227.0   \n102595                 2.0                             2.0            395.0   \n102596                 5.0                             1.0            342.0   \n102597                 3.0                             1.0            386.0   \n102598                 3.0                             1.0             69.0   \n\n                                              house_rules  \n0       Clean up and treat the home the way youd like ...  \n1       Pet friendly but please confirm with me if the...  \n2       I encourage you to use my kitchen cooking and ...  \n3                                                     NaN  \n4       Please no smoking in the house porch or on the...  \n...                                                   ...  \n102594  No Smoking No Parties or Events of any kind Pl...  \n102595  House rules Guests agree to the following term...  \n102596                                                NaN  \n102597                                                NaN  \n102598                                                NaN  \n\n[102599 rows x 24 columns]",
      "text/html": "<div>\n<style scoped>\n    .dataframe tbody tr th:only-of-type {\n        vertical-align: middle;\n    }\n\n    .dataframe tbody tr th {\n        vertical-align: top;\n    }\n\n    .dataframe thead th {\n        text-align: right;\n    }\n</style>\n<table border=\"1\" class=\"dataframe\">\n  <thead>\n    <tr style=\"text-align: right;\">\n      <th></th>\n      <th>_id</th>\n      <th>id</th>\n      <th>NAME</th>\n      <th>host id</th>\n      <th>host_identity_verified</th>\n      <th>host name</th>\n      <th>neighbourhood group</th>\n      <th>neighbourhood</th>\n      <th>lat</th>\n      <th>long</th>\n      <th>...</th>\n      <th>price</th>\n      <th>service fee</th>\n      <th>minimum nights</th>\n      <th>number of reviews</th>\n      <th>last review</th>\n      <th>reviews per month</th>\n      <th>review rate number</th>\n      <th>calculated host listings count</th>\n      <th>availability 365</th>\n      <th>house_rules</th>\n    </tr>\n  </thead>\n  <tbody>\n    <tr>\n      <th>0</th>\n      <td>64f37253c71f97a2a90d1226</td>\n      <td>1001254</td>\n      <td>Clean  quiet apt home by the park</td>\n      <td>80014485718</td>\n      <td>unconfirmed</td>\n      <td>Madaline</td>\n      <td>Brooklyn</td>\n      <td>Kensington</td>\n      <td>40.64749</td>\n      <td>-73.97237</td>\n      <td>...</td>\n      <td>$966</td>\n      <td>$193</td>\n      <td>10.0</td>\n      <td>9.0</td>\n      <td>10/19/2021</td>\n      <td>0.21</td>\n      <td>4.0</td>\n      <td>6.0</td>\n      <td>286.0</td>\n      <td>Clean up and treat the home the way youd like ...</td>\n    </tr>\n    <tr>\n      <th>1</th>\n      <td>64f37253c71f97a2a90d1227</td>\n      <td>1002102</td>\n      <td>Skylit Midtown Castle</td>\n      <td>52335172823</td>\n      <td>verified</td>\n      <td>Jenna</td>\n      <td>Manhattan</td>\n      <td>Midtown</td>\n      <td>40.75362</td>\n      <td>-73.98377</td>\n      <td>...</td>\n      <td>$142</td>\n      <td>$28</td>\n      <td>30.0</td>\n      <td>45.0</td>\n      <td>5/21/2022</td>\n      <td>0.38</td>\n      <td>4.0</td>\n      <td>2.0</td>\n      <td>228.0</td>\n      <td>Pet friendly but please confirm with me if the...</td>\n    </tr>\n    <tr>\n      <th>2</th>\n      <td>64f37253c71f97a2a90d1228</td>\n      <td>1002403</td>\n      <td>THE VILLAGE OF HARLEMNEW YORK</td>\n      <td>78829239556</td>\n      <td>NaN</td>\n      <td>Elise</td>\n      <td>Manhattan</td>\n      <td>Harlem</td>\n      <td>40.80902</td>\n      <td>-73.94190</td>\n      <td>...</td>\n      <td>$620</td>\n      <td>$124</td>\n      <td>3.0</td>\n      <td>0.0</td>\n      <td>NaN</td>\n      <td>NaN</td>\n      <td>5.0</td>\n      <td>1.0</td>\n      <td>352.0</td>\n      <td>I encourage you to use my kitchen cooking and ...</td>\n    </tr>\n    <tr>\n      <th>3</th>\n      <td>64f37253c71f97a2a90d1229</td>\n      <td>1002755</td>\n      <td>NaN</td>\n      <td>85098326012</td>\n      <td>unconfirmed</td>\n      <td>Garry</td>\n      <td>Brooklyn</td>\n      <td>Clinton Hill</td>\n      <td>40.68514</td>\n      <td>-73.95976</td>\n      <td>...</td>\n      <td>$368</td>\n      <td>$74</td>\n      <td>30.0</td>\n      <td>270.0</td>\n      <td>7/5/2019</td>\n      <td>4.64</td>\n      <td>4.0</td>\n      <td>1.0</td>\n      <td>322.0</td>\n      <td>NaN</td>\n    </tr>\n    <tr>\n      <th>4</th>\n      <td>64f37253c71f97a2a90d122a</td>\n      <td>1003689</td>\n      <td>Entire Apt Spacious StudioLoft by central park</td>\n      <td>92037596077</td>\n      <td>verified</td>\n      <td>Lyndon</td>\n      <td>Manhattan</td>\n      <td>East Harlem</td>\n      <td>40.79851</td>\n      <td>-73.94399</td>\n      <td>...</td>\n      <td>$204</td>\n      <td>$41</td>\n      <td>10.0</td>\n      <td>9.0</td>\n      <td>11/19/2018</td>\n      <td>0.10</td>\n      <td>3.0</td>\n      <td>1.0</td>\n      <td>289.0</td>\n      <td>Please no smoking in the house porch or on the...</td>\n    </tr>\n    <tr>\n      <th>...</th>\n      <td>...</td>\n      <td>...</td>\n      <td>...</td>\n      <td>...</td>\n      <td>...</td>\n      <td>...</td>\n      <td>...</td>\n      <td>...</td>\n      <td>...</td>\n      <td>...</td>\n      <td>...</td>\n      <td>...</td>\n      <td>...</td>\n      <td>...</td>\n      <td>...</td>\n      <td>...</td>\n      <td>...</td>\n      <td>...</td>\n      <td>...</td>\n      <td>...</td>\n      <td>...</td>\n    </tr>\n    <tr>\n      <th>102594</th>\n      <td>64f37254c71f97a2a90ea2e8</td>\n      <td>6092437</td>\n      <td>Spare room in Williamsburg</td>\n      <td>12312296767</td>\n      <td>verified</td>\n      <td>Krik</td>\n      <td>Brooklyn</td>\n      <td>Williamsburg</td>\n      <td>40.70862</td>\n      <td>-73.94651</td>\n      <td>...</td>\n      <td>$844</td>\n      <td>$169</td>\n      <td>1.0</td>\n      <td>0.0</td>\n      <td>NaN</td>\n      <td>NaN</td>\n      <td>3.0</td>\n      <td>1.0</td>\n      <td>227.0</td>\n      <td>No Smoking No Parties or Events of any kind Pl...</td>\n    </tr>\n    <tr>\n      <th>102595</th>\n      <td>64f37254c71f97a2a90ea2e9</td>\n      <td>6092990</td>\n      <td>Best Location near Columbia U</td>\n      <td>77864383453</td>\n      <td>unconfirmed</td>\n      <td>Mifan</td>\n      <td>Manhattan</td>\n      <td>Morningside Heights</td>\n      <td>40.80460</td>\n      <td>-73.96545</td>\n      <td>...</td>\n      <td>$837</td>\n      <td>$167</td>\n      <td>1.0</td>\n      <td>1.0</td>\n      <td>7/6/2015</td>\n      <td>0.02</td>\n      <td>2.0</td>\n      <td>2.0</td>\n      <td>395.0</td>\n      <td>House rules Guests agree to the following term...</td>\n    </tr>\n    <tr>\n      <th>102596</th>\n      <td>64f37254c71f97a2a90ea2ea</td>\n      <td>6093542</td>\n      <td>Comfy bright room in Brooklyn</td>\n      <td>69050334417</td>\n      <td>unconfirmed</td>\n      <td>Megan</td>\n      <td>Brooklyn</td>\n      <td>Park Slope</td>\n      <td>40.67505</td>\n      <td>-73.98045</td>\n      <td>...</td>\n      <td>$988</td>\n      <td>$198</td>\n      <td>3.0</td>\n      <td>0.0</td>\n      <td>NaN</td>\n      <td>NaN</td>\n      <td>5.0</td>\n      <td>1.0</td>\n      <td>342.0</td>\n      <td>NaN</td>\n    </tr>\n    <tr>\n      <th>102597</th>\n      <td>64f37254c71f97a2a90ea2eb</td>\n      <td>6094094</td>\n      <td>Big StudioOne Stop from Midtown</td>\n      <td>11160591270</td>\n      <td>unconfirmed</td>\n      <td>Christopher</td>\n      <td>Queens</td>\n      <td>Long Island City</td>\n      <td>40.74989</td>\n      <td>-73.93777</td>\n      <td>...</td>\n      <td>$546</td>\n      <td>$109</td>\n      <td>2.0</td>\n      <td>5.0</td>\n      <td>10/11/2015</td>\n      <td>0.10</td>\n      <td>3.0</td>\n      <td>1.0</td>\n      <td>386.0</td>\n      <td>NaN</td>\n    </tr>\n    <tr>\n      <th>102598</th>\n      <td>64f37254c71f97a2a90ea2ec</td>\n      <td>6094647</td>\n      <td>sf Luxury Studio</td>\n      <td>68170633372</td>\n      <td>unconfirmed</td>\n      <td>Rebecca</td>\n      <td>Manhattan</td>\n      <td>Upper West Side</td>\n      <td>40.76807</td>\n      <td>-73.98342</td>\n      <td>...</td>\n      <td>$1,032</td>\n      <td>$206</td>\n      <td>1.0</td>\n      <td>0.0</td>\n      <td>NaN</td>\n      <td>NaN</td>\n      <td>3.0</td>\n      <td>1.0</td>\n      <td>69.0</td>\n      <td>NaN</td>\n    </tr>\n  </tbody>\n</table>\n<p>102599 rows × 24 columns</p>\n</div>"
     },
     "execution_count": 8,
     "metadata": {},
     "output_type": "execute_result"
    }
   ],
   "source": [
    "df_airbnb"
   ],
   "metadata": {
    "collapsed": false,
    "ExecuteTime": {
     "end_time": "2023-09-02T17:36:24.554094300Z",
     "start_time": "2023-09-02T17:36:24.205011800Z"
    }
   },
   "id": "a6e644a481dc29af"
  },
  {
   "cell_type": "markdown",
   "id": "a1024eb23322122e",
   "metadata": {
    "collapsed": false,
    "ExecuteTime": {
     "end_time": "2023-09-02T17:18:36.663795300Z",
     "start_time": "2023-09-02T17:18:36.309185Z"
    }
   },
   "source": [
    "### ¿Qué tipo de dato son las variables del conjunto de datos?"
   ]
  },
  {
   "cell_type": "code",
   "execution_count": 9,
   "id": "a62739d29da757e8",
   "metadata": {
    "collapsed": false,
    "ExecuteTime": {
     "end_time": "2023-09-02T17:36:40.449312400Z",
     "start_time": "2023-09-02T17:36:40.428311500Z"
    }
   },
   "outputs": [
    {
     "data": {
      "text/plain": "_id                                object\nid                                  int64\nNAME                               object\nhost id                             int64\nhost_identity_verified             object\nhost name                          object\nneighbourhood group                object\nneighbourhood                      object\nlat                               float64\nlong                              float64\ninstant_bookable                   object\ncancellation_policy                object\nroom type                          object\nConstruction year                 float64\nprice                              object\nservice fee                        object\nminimum nights                    float64\nnumber of reviews                 float64\nlast review                        object\nreviews per month                 float64\nreview rate number                float64\ncalculated host listings count    float64\navailability 365                  float64\nhouse_rules                        object\ndtype: object"
     },
     "execution_count": 9,
     "metadata": {},
     "output_type": "execute_result"
    }
   ],
   "source": [
    "df_airbnb.dtypes"
   ]
  },
  {
   "cell_type": "markdown",
   "id": "b6a7834d2eae2aeb",
   "metadata": {
    "collapsed": false,
    "ExecuteTime": {
     "end_time": "2023-09-02T17:18:40.052779200Z",
     "start_time": "2023-09-02T17:18:39.928781600Z"
    }
   },
   "source": [
    "### ¿Cuántas variables de cada tipo de dato tenemos en el conjunto de datos?"
   ]
  },
  {
   "cell_type": "code",
   "execution_count": 10,
   "id": "e1cb852aef5ffedf",
   "metadata": {
    "collapsed": false,
    "ExecuteTime": {
     "end_time": "2023-09-02T17:36:43.742405Z",
     "start_time": "2023-09-02T17:36:43.725961700Z"
    }
   },
   "outputs": [
    {
     "data": {
      "text/plain": "object     13\nfloat64     9\nint64       2\ndtype: int64"
     },
     "execution_count": 10,
     "metadata": {},
     "output_type": "execute_result"
    }
   ],
   "source": [
    "(\n",
    "    df_airbnb\n",
    "    .dtypes\n",
    "    .value_counts()\n",
    ")"
   ]
  },
  {
   "cell_type": "markdown",
   "id": "4812473468082a87",
   "metadata": {
    "collapsed": false,
    "ExecuteTime": {
     "end_time": "2023-09-02T17:18:18.621259400Z",
     "start_time": "2023-09-02T17:18:18.396274500Z"
    }
   },
   "source": [
    "###  ¿Cuales son las dimensiones del Dataset?"
   ]
  },
  {
   "cell_type": "code",
   "execution_count": 11,
   "id": "645a18f27a04d2df",
   "metadata": {
    "collapsed": false,
    "ExecuteTime": {
     "end_time": "2023-09-02T17:36:46.571451600Z",
     "start_time": "2023-09-02T17:36:46.550777100Z"
    }
   },
   "outputs": [
    {
     "data": {
      "text/plain": "(102599, 24)"
     },
     "execution_count": 11,
     "metadata": {},
     "output_type": "execute_result"
    }
   ],
   "source": [
    "df_airbnb.shape"
   ]
  },
  {
   "cell_type": "markdown",
   "id": "afbd91a7995988e0",
   "metadata": {
    "collapsed": false,
    "ExecuteTime": {
     "end_time": "2023-09-02T17:18:10.181998600Z",
     "start_time": "2023-09-02T17:18:10.036999400Z"
    }
   },
   "source": [
    "### ¿Existen valores nulos explicitos en el conjunto de datos?"
   ]
  },
  {
   "cell_type": "code",
   "execution_count": 12,
   "id": "12a2779a01e198b8",
   "metadata": {
    "collapsed": false,
    "ExecuteTime": {
     "end_time": "2023-09-02T17:36:48.987517100Z",
     "start_time": "2023-09-02T17:36:48.654260200Z"
    }
   },
   "outputs": [
    {
     "data": {
      "text/plain": "_id                               False\nid                                False\nNAME                               True\nhost id                           False\nhost_identity_verified             True\nhost name                          True\nneighbourhood group                True\nneighbourhood                      True\nlat                                True\nlong                               True\ninstant_bookable                   True\ncancellation_policy                True\nroom type                         False\nConstruction year                  True\nprice                              True\nservice fee                        True\nminimum nights                     True\nnumber of reviews                  True\nlast review                        True\nreviews per month                  True\nreview rate number                 True\ncalculated host listings count     True\navailability 365                   True\nhouse_rules                        True\ndtype: bool"
     },
     "execution_count": 12,
     "metadata": {},
     "output_type": "execute_result"
    }
   ],
   "source": [
    "df_airbnb.isnull().any()"
   ]
  },
  {
   "cell_type": "markdown",
   "id": "72f9209433e86d67",
   "metadata": {
    "collapsed": false,
    "ExecuteTime": {
     "end_time": "2023-09-02T17:18:10.223036300Z",
     "start_time": "2023-09-02T17:18:10.042997100Z"
    }
   },
   "source": [
    "### De tener observaciones con valores nulos, ¿cuántas tenemos por cada variable?"
   ]
  },
  {
   "cell_type": "code",
   "execution_count": 13,
   "id": "fe7401140017609c",
   "metadata": {
    "collapsed": false,
    "ExecuteTime": {
     "end_time": "2023-09-02T17:36:52.615870800Z",
     "start_time": "2023-09-02T17:36:52.281292400Z"
    }
   },
   "outputs": [
    {
     "data": {
      "text/plain": "house_rules                       52131\nlast review                       15893\nreviews per month                 15879\navailability 365                    448\nminimum nights                      409\nhost name                           406\nreview rate number                  326\ncalculated host listings count      319\nhost_identity_verified              289\nservice fee                         273\nNAME                                250\nprice                               247\nConstruction year                   214\nnumber of reviews                   183\ninstant_bookable                    105\ncancellation_policy                  76\nneighbourhood group                  29\nneighbourhood                        16\nlong                                  8\nlat                                   8\n_id                                   0\nid                                    0\nhost id                               0\nroom type                             0\ndtype: int64"
     },
     "execution_count": 13,
     "metadata": {},
     "output_type": "execute_result"
    }
   ],
   "source": [
    "(\n",
    "    df_airbnb\n",
    "    .isnull()\n",
    "    .sum()\n",
    "    .sort_values(ascending=False)\n",
    ")\n"
   ]
  },
  {
   "cell_type": "markdown",
   "id": "ab302256e8f80661",
   "metadata": {
    "collapsed": false,
    "ExecuteTime": {
     "end_time": "2023-09-02T17:18:10.259033500Z",
     "start_time": "2023-09-02T17:18:10.075994300Z"
    }
   },
   "source": [
    "### ¿Cuál es la proporción de valores nulos por cada variable? "
   ]
  },
  {
   "cell_type": "code",
   "execution_count": 14,
   "id": "aefe9355",
   "metadata": {
    "ExecuteTime": {
     "end_time": "2023-09-02T17:37:00.984210700Z",
     "start_time": "2023-09-02T17:36:54.992663300Z"
    }
   },
   "outputs": [
    {
     "name": "stderr",
     "output_type": "stream",
     "text": [
      "C:\\Users\\Guatavo\\anaconda3\\envs\\fundamentos-etl\\lib\\site-packages\\seaborn\\axisgrid.py:118: UserWarning: The figure layout has changed to tight\n",
      "  self._figure.tight_layout(*args, **kwargs)\n"
     ]
    },
    {
     "data": {
      "text/plain": "<seaborn.axisgrid.FacetGrid at 0x2a0aa483580>"
     },
     "execution_count": 14,
     "metadata": {},
     "output_type": "execute_result"
    },
    {
     "data": {
      "text/plain": "<Figure size 1083.88x500 with 1 Axes>",
      "image/png": "[encoded data removed]"
     },
     "metadata": {},
     "output_type": "display_data"
    }
   ],
   "source": [
    "(\n",
    "    df_airbnb\n",
    "    .isnull()\n",
    "    .melt(value_name='missing')\n",
    "    .pipe(\n",
    "        lambda df: (\n",
    "            sns.displot(\n",
    "                data=df,\n",
    "                y='variable',\n",
    "                hue='missing',\n",
    "                multiple='fill',\n",
    "                aspect=2\n",
    "            )\n",
    "        )\n",
    "    )\n",
    ")"
   ]
  },
  {
   "cell_type": "markdown",
   "id": "cc82e0ba225d9e94",
   "metadata": {
    "collapsed": false,
    "ExecuteTime": {
     "start_time": "2023-09-02T17:18:10.139996100Z"
    }
   },
   "source": [
    "### ¿Cuántos valores nulos tenemos en total en el conjunto de datos?"
   ]
  },
  {
   "cell_type": "code",
   "execution_count": 15,
   "id": "b8b1681424f7b07",
   "metadata": {
    "collapsed": false,
    "ExecuteTime": {
     "end_time": "2023-09-02T17:37:02.564970800Z",
     "start_time": "2023-09-02T17:37:02.231850300Z"
    }
   },
   "outputs": [
    {
     "data": {
      "text/plain": "87509"
     },
     "execution_count": 15,
     "metadata": {},
     "output_type": "execute_result"
    }
   ],
   "source": [
    "(\n",
    "    df_airbnb\n",
    "    .isnull()\n",
    "    .sum()\n",
    "    .sum()\n",
    ")"
   ]
  },
  {
   "cell_type": "markdown",
   "id": "b5e06b25",
   "metadata": {
    "ExecuteTime": {
     "start_time": "2023-09-02T17:18:10.141997100Z"
    }
   },
   "source": [
    "## Proceso de Limpieza "
   ]
  },
  {
   "cell_type": "markdown",
   "id": "35250c6a",
   "metadata": {},
   "source": [
    "#### Estandarizamos los nombres"
   ]
  },
  {
   "cell_type": "code",
   "execution_count": 16,
   "id": "b58a2724",
   "metadata": {
    "ExecuteTime": {
     "end_time": "2023-09-02T17:37:07.293745500Z",
     "start_time": "2023-09-02T17:37:07.255746Z"
    }
   },
   "outputs": [],
   "source": [
    "new_column_names = [x.lower().replace(\" \", \"_\") for x in df_airbnb.columns]\n",
    "df_airbnb.columns = new_column_names"
   ]
  },
  {
   "cell_type": "markdown",
   "source": [
    "## Borrar columna que se creo usando mongo"
   ],
   "metadata": {
    "collapsed": false
   },
   "id": "9292acb2368df69a"
  },
  {
   "cell_type": "code",
   "execution_count": 18,
   "outputs": [],
   "source": [
    "df_airbnb = df_airbnb.drop(columns=['_id'])\n"
   ],
   "metadata": {
    "collapsed": false,
    "ExecuteTime": {
     "end_time": "2023-09-02T17:37:14.536389400Z",
     "start_time": "2023-09-02T17:37:14.511768700Z"
    }
   },
   "id": "c4350c8135876495"
  },
  {
   "cell_type": "markdown",
   "id": "cea1b64c",
   "metadata": {},
   "source": [
    "#### Dado que el atributo de \"host_identity_verified\" cuenta con valores nulos, vamos a llenar dichos valores con unverified"
   ]
  },
  {
   "cell_type": "code",
   "execution_count": 19,
   "id": "98da47ec",
   "metadata": {
    "ExecuteTime": {
     "end_time": "2023-09-02T17:37:17.354242200Z",
     "start_time": "2023-09-02T17:37:17.024245100Z"
    }
   },
   "outputs": [
    {
     "data": {
      "text/plain": "             id                                            name      host_id  \\\n0       1001254               Clean  quiet apt home by the park  80014485718   \n1       1002102                           Skylit Midtown Castle  52335172823   \n2       1002403                  THE VILLAGE OF HARLEMNEW YORK   78829239556   \n3       1002755                                             NaN  85098326012   \n4       1003689  Entire Apt Spacious StudioLoft by central park  92037596077   \n...         ...                                             ...          ...   \n102594  6092437                      Spare room in Williamsburg  12312296767   \n102595  6092990                   Best Location near Columbia U  77864383453   \n102596  6093542                   Comfy bright room in Brooklyn  69050334417   \n102597  6094094                 Big StudioOne Stop from Midtown  11160591270   \n102598  6094647                                sf Luxury Studio  68170633372   \n\n       host_identity_verified    host_name neighbourhood_group  \\\n0                 unconfirmed     Madaline            Brooklyn   \n1                    verified        Jenna           Manhattan   \n2                  unverified        Elise           Manhattan   \n3                 unconfirmed        Garry            Brooklyn   \n4                    verified       Lyndon           Manhattan   \n...                       ...          ...                 ...   \n102594               verified         Krik            Brooklyn   \n102595            unconfirmed        Mifan           Manhattan   \n102596            unconfirmed        Megan            Brooklyn   \n102597            unconfirmed  Christopher              Queens   \n102598            unconfirmed      Rebecca           Manhattan   \n\n              neighbourhood       lat      long instant_bookable  ...  \\\n0                Kensington  40.64749 -73.97237            False  ...   \n1                   Midtown  40.75362 -73.98377            False  ...   \n2                    Harlem  40.80902 -73.94190             True  ...   \n3              Clinton Hill  40.68514 -73.95976             True  ...   \n4               East Harlem  40.79851 -73.94399            False  ...   \n...                     ...       ...       ...              ...  ...   \n102594         Williamsburg  40.70862 -73.94651            False  ...   \n102595  Morningside Heights  40.80460 -73.96545             True  ...   \n102596           Park Slope  40.67505 -73.98045             True  ...   \n102597     Long Island City  40.74989 -73.93777             True  ...   \n102598      Upper West Side  40.76807 -73.98342            False  ...   \n\n          price service_fee  minimum_nights number_of_reviews last_review  \\\n0         $966        $193             10.0               9.0  10/19/2021   \n1         $142         $28             30.0              45.0   5/21/2022   \n2         $620        $124              3.0               0.0         NaN   \n3         $368         $74             30.0             270.0    7/5/2019   \n4         $204         $41             10.0               9.0  11/19/2018   \n...         ...         ...             ...               ...         ...   \n102594    $844        $169              1.0               0.0         NaN   \n102595    $837        $167              1.0               1.0    7/6/2015   \n102596    $988        $198              3.0               0.0         NaN   \n102597    $546        $109              2.0               5.0  10/11/2015   \n102598  $1,032        $206              1.0               0.0         NaN   \n\n        reviews_per_month  review_rate_number calculated_host_listings_count  \\\n0                    0.21                 4.0                            6.0   \n1                    0.38                 4.0                            2.0   \n2                     NaN                 5.0                            1.0   \n3                    4.64                 4.0                            1.0   \n4                    0.10                 3.0                            1.0   \n...                   ...                 ...                            ...   \n102594                NaN                 3.0                            1.0   \n102595               0.02                 2.0                            2.0   \n102596                NaN                 5.0                            1.0   \n102597               0.10                 3.0                            1.0   \n102598                NaN                 3.0                            1.0   \n\n        availability_365                                        house_rules  \n0                  286.0  Clean up and treat the home the way youd like ...  \n1                  228.0  Pet friendly but please confirm with me if the...  \n2                  352.0  I encourage you to use my kitchen cooking and ...  \n3                  322.0                                                NaN  \n4                  289.0  Please no smoking in the house porch or on the...  \n...                  ...                                                ...  \n102594             227.0  No Smoking No Parties or Events of any kind Pl...  \n102595             395.0  House rules Guests agree to the following term...  \n102596             342.0                                                NaN  \n102597             386.0                                                NaN  \n102598              69.0                                                NaN  \n\n[102599 rows x 23 columns]",
      "text/html": "<div>\n<style scoped>\n    .dataframe tbody tr th:only-of-type {\n        vertical-align: middle;\n    }\n\n    .dataframe tbody tr th {\n        vertical-align: top;\n    }\n\n    .dataframe thead th {\n        text-align: right;\n    }\n</style>\n<table border=\"1\" class=\"dataframe\">\n  <thead>\n    <tr style=\"text-align: right;\">\n      <th></th>\n      <th>id</th>\n      <th>name</th>\n      <th>host_id</th>\n      <th>host_identity_verified</th>\n      <th>host_name</th>\n      <th>neighbourhood_group</th>\n      <th>neighbourhood</th>\n      <th>lat</th>\n      <th>long</th>\n      <th>instant_bookable</th>\n      <th>...</th>\n      <th>price</th>\n      <th>service_fee</th>\n      <th>minimum_nights</th>\n      <th>number_of_reviews</th>\n      <th>last_review</th>\n      <th>reviews_per_month</th>\n      <th>review_rate_number</th>\n      <th>calculated_host_listings_count</th>\n      <th>availability_365</th>\n      <th>house_rules</th>\n    </tr>\n  </thead>\n  <tbody>\n    <tr>\n      <th>0</th>\n      <td>1001254</td>\n      <td>Clean  quiet apt home by the park</td>\n      <td>80014485718</td>\n      <td>unconfirmed</td>\n      <td>Madaline</td>\n      <td>Brooklyn</td>\n      <td>Kensington</td>\n      <td>40.64749</td>\n      <td>-73.97237</td>\n      <td>False</td>\n      <td>...</td>\n      <td>$966</td>\n      <td>$193</td>\n      <td>10.0</td>\n      <td>9.0</td>\n      <td>10/19/2021</td>\n      <td>0.21</td>\n      <td>4.0</td>\n      <td>6.0</td>\n      <td>286.0</td>\n      <td>Clean up and treat the home the way youd like ...</td>\n    </tr>\n    <tr>\n      <th>1</th>\n      <td>1002102</td>\n      <td>Skylit Midtown Castle</td>\n      <td>52335172823</td>\n      <td>verified</td>\n      <td>Jenna</td>\n      <td>Manhattan</td>\n      <td>Midtown</td>\n      <td>40.75362</td>\n      <td>-73.98377</td>\n      <td>False</td>\n      <td>...</td>\n      <td>$142</td>\n      <td>$28</td>\n      <td>30.0</td>\n      <td>45.0</td>\n      <td>5/21/2022</td>\n      <td>0.38</td>\n      <td>4.0</td>\n      <td>2.0</td>\n      <td>228.0</td>\n      <td>Pet friendly but please confirm with me if the...</td>\n    </tr>\n    <tr>\n      <th>2</th>\n      <td>1002403</td>\n      <td>THE VILLAGE OF HARLEMNEW YORK</td>\n      <td>78829239556</td>\n      <td>unverified</td>\n      <td>Elise</td>\n      <td>Manhattan</td>\n      <td>Harlem</td>\n      <td>40.80902</td>\n      <td>-73.94190</td>\n      <td>True</td>\n      <td>...</td>\n      <td>$620</td>\n      <td>$124</td>\n      <td>3.0</td>\n      <td>0.0</td>\n      <td>NaN</td>\n      <td>NaN</td>\n      <td>5.0</td>\n      <td>1.0</td>\n      <td>352.0</td>\n      <td>I encourage you to use my kitchen cooking and ...</td>\n    </tr>\n    <tr>\n      <th>3</th>\n      <td>1002755</td>\n      <td>NaN</td>\n      <td>85098326012</td>\n      <td>unconfirmed</td>\n      <td>Garry</td>\n      <td>Brooklyn</td>\n      <td>Clinton Hill</td>\n      <td>40.68514</td>\n      <td>-73.95976</td>\n      <td>True</td>\n      <td>...</td>\n      <td>$368</td>\n      <td>$74</td>\n      <td>30.0</td>\n      <td>270.0</td>\n      <td>7/5/2019</td>\n      <td>4.64</td>\n      <td>4.0</td>\n      <td>1.0</td>\n      <td>322.0</td>\n      <td>NaN</td>\n    </tr>\n    <tr>\n      <th>4</th>\n      <td>1003689</td>\n      <td>Entire Apt Spacious StudioLoft by central park</td>\n      <td>92037596077</td>\n      <td>verified</td>\n      <td>Lyndon</td>\n      <td>Manhattan</td>\n      <td>East Harlem</td>\n      <td>40.79851</td>\n      <td>-73.94399</td>\n      <td>False</td>\n      <td>...</td>\n      <td>$204</td>\n      <td>$41</td>\n      <td>10.0</td>\n      <td>9.0</td>\n      <td>11/19/2018</td>\n      <td>0.10</td>\n      <td>3.0</td>\n      <td>1.0</td>\n      <td>289.0</td>\n      <td>Please no smoking in the house porch or on the...</td>\n    </tr>\n    <tr>\n      <th>...</th>\n      <td>...</td>\n      <td>...</td>\n      <td>...</td>\n      <td>...</td>\n      <td>...</td>\n      <td>...</td>\n      <td>...</td>\n      <td>...</td>\n      <td>...</td>\n      <td>...</td>\n      <td>...</td>\n      <td>...</td>\n      <td>...</td>\n      <td>...</td>\n      <td>...</td>\n      <td>...</td>\n      <td>...</td>\n      <td>...</td>\n      <td>...</td>\n      <td>...</td>\n      <td>...</td>\n    </tr>\n    <tr>\n      <th>102594</th>\n      <td>6092437</td>\n      <td>Spare room in Williamsburg</td>\n      <td>12312296767</td>\n      <td>verified</td>\n      <td>Krik</td>\n      <td>Brooklyn</td>\n      <td>Williamsburg</td>\n      <td>40.70862</td>\n      <td>-73.94651</td>\n      <td>False</td>\n      <td>...</td>\n      <td>$844</td>\n      <td>$169</td>\n      <td>1.0</td>\n      <td>0.0</td>\n      <td>NaN</td>\n      <td>NaN</td>\n      <td>3.0</td>\n      <td>1.0</td>\n      <td>227.0</td>\n      <td>No Smoking No Parties or Events of any kind Pl...</td>\n    </tr>\n    <tr>\n      <th>102595</th>\n      <td>6092990</td>\n      <td>Best Location near Columbia U</td>\n      <td>77864383453</td>\n      <td>unconfirmed</td>\n      <td>Mifan</td>\n      <td>Manhattan</td>\n      <td>Morningside Heights</td>\n      <td>40.80460</td>\n      <td>-73.96545</td>\n      <td>True</td>\n      <td>...</td>\n      <td>$837</td>\n      <td>$167</td>\n      <td>1.0</td>\n      <td>1.0</td>\n      <td>7/6/2015</td>\n      <td>0.02</td>\n      <td>2.0</td>\n      <td>2.0</td>\n      <td>395.0</td>\n      <td>House rules Guests agree to the following term...</td>\n    </tr>\n    <tr>\n      <th>102596</th>\n      <td>6093542</td>\n      <td>Comfy bright room in Brooklyn</td>\n      <td>69050334417</td>\n      <td>unconfirmed</td>\n      <td>Megan</td>\n      <td>Brooklyn</td>\n      <td>Park Slope</td>\n      <td>40.67505</td>\n      <td>-73.98045</td>\n      <td>True</td>\n      <td>...</td>\n      <td>$988</td>\n      <td>$198</td>\n      <td>3.0</td>\n      <td>0.0</td>\n      <td>NaN</td>\n      <td>NaN</td>\n      <td>5.0</td>\n      <td>1.0</td>\n      <td>342.0</td>\n      <td>NaN</td>\n    </tr>\n    <tr>\n      <th>102597</th>\n      <td>6094094</td>\n      <td>Big StudioOne Stop from Midtown</td>\n      <td>11160591270</td>\n      <td>unconfirmed</td>\n      <td>Christopher</td>\n      <td>Queens</td>\n      <td>Long Island City</td>\n      <td>40.74989</td>\n      <td>-73.93777</td>\n      <td>True</td>\n      <td>...</td>\n      <td>$546</td>\n      <td>$109</td>\n      <td>2.0</td>\n      <td>5.0</td>\n      <td>10/11/2015</td>\n      <td>0.10</td>\n      <td>3.0</td>\n      <td>1.0</td>\n      <td>386.0</td>\n      <td>NaN</td>\n    </tr>\n    <tr>\n      <th>102598</th>\n      <td>6094647</td>\n      <td>sf Luxury Studio</td>\n      <td>68170633372</td>\n      <td>unconfirmed</td>\n      <td>Rebecca</td>\n      <td>Manhattan</td>\n      <td>Upper West Side</td>\n      <td>40.76807</td>\n      <td>-73.98342</td>\n      <td>False</td>\n      <td>...</td>\n      <td>$1,032</td>\n      <td>$206</td>\n      <td>1.0</td>\n      <td>0.0</td>\n      <td>NaN</td>\n      <td>NaN</td>\n      <td>3.0</td>\n      <td>1.0</td>\n      <td>69.0</td>\n      <td>NaN</td>\n    </tr>\n  </tbody>\n</table>\n<p>102599 rows × 23 columns</p>\n</div>"
     },
     "execution_count": 19,
     "metadata": {},
     "output_type": "execute_result"
    }
   ],
   "source": [
    "df_airbnb[\"host_identity_verified\"].fillna(\"unverified\", inplace=True)\n",
    "df_airbnb"
   ]
  },
  {
   "cell_type": "markdown",
   "id": "3d474c91",
   "metadata": {},
   "source": [
    "#### Es necesario eliminar los símbolos de dólar de las columnas \"price\" y \"service_fee\""
   ]
  },
  {
   "cell_type": "code",
   "execution_count": 20,
   "id": "038167f9",
   "metadata": {
    "ExecuteTime": {
     "end_time": "2023-09-02T17:37:22.760148500Z",
     "start_time": "2023-09-02T17:37:22.315535800Z"
    }
   },
   "outputs": [
    {
     "name": "stderr",
     "output_type": "stream",
     "text": [
      "C:\\Users\\Guatavo\\AppData\\Local\\Temp\\ipykernel_4344\\2542863133.py:1: FutureWarning: The default value of regex will change from True to False in a future version. In addition, single character regular expressions will *not* be treated as literal strings when regex=True.\n",
      "  df_airbnb[\"price\"] = df_airbnb[\"price\"].str.replace('$', '').str.replace(',', '').str.strip()\n",
      "C:\\Users\\Guatavo\\AppData\\Local\\Temp\\ipykernel_4344\\2542863133.py:2: FutureWarning: The default value of regex will change from True to False in a future version. In addition, single character regular expressions will *not* be treated as literal strings when regex=True.\n",
      "  df_airbnb[\"service_fee\"] = df_airbnb[\"service_fee\"].str.replace('$', '').str.replace(',', '').str.strip()\n"
     ]
    },
    {
     "data": {
      "text/plain": "0"
     },
     "execution_count": 20,
     "metadata": {},
     "output_type": "execute_result"
    }
   ],
   "source": [
    "df_airbnb[\"price\"] = df_airbnb[\"price\"].str.replace('$', '').str.replace(',', '').str.strip()\n",
    "df_airbnb[\"service_fee\"] = df_airbnb[\"service_fee\"].str.replace('$', '').str.replace(',', '').str.strip()\n",
    "\n",
    "# Convertir las columnas \"price\" y \"service_fee\" a valores flotantes\n",
    "df_airbnb[\"price\"] = df_airbnb[\"price\"].astype(float)\n",
    "df_airbnb[\"service_fee\"] = df_airbnb[\"service_fee\"].astype(float)\n",
    "\n",
    "#Verificamos que no haya ningún registro en el que el service fee sea mayor al precio\n",
    "counter = df_airbnb[\"price\"] < df_airbnb[\"service_fee\"]\n",
    "count_greater_service_fee = counter.sum()\n",
    "count_greater_service_fee"
   ]
  },
  {
   "cell_type": "markdown",
   "id": "7e57351d",
   "metadata": {},
   "source": [
    "#### Limpia los valores no finitos en la columna \"Construction year\""
   ]
  },
  {
   "cell_type": "code",
   "execution_count": 21,
   "id": "1d216cc0",
   "metadata": {
    "ExecuteTime": {
     "end_time": "2023-09-02T17:37:24.961614300Z",
     "start_time": "2023-09-02T17:37:24.933616300Z"
    }
   },
   "outputs": [],
   "source": [
    "df_airbnb[\"construction_year\"] = df_airbnb[\"construction_year\"].replace([np.inf, -np.inf], np.nan)\n",
    "df_airbnb[\"construction_year\"] = df_airbnb[\"construction_year\"].fillna(0)  # Rellenar valores nulos con 0 o el valor "
   ]
  },
  {
   "cell_type": "markdown",
   "id": "768fde4b",
   "metadata": {},
   "source": [
    "#### Cambiamos la columna \"Construction year\" de tipo float64 a int32, ya que los años son enteros."
   ]
  },
  {
   "cell_type": "code",
   "execution_count": 22,
   "id": "0dd9aca2",
   "metadata": {
    "ExecuteTime": {
     "end_time": "2023-09-02T17:37:27.485606300Z",
     "start_time": "2023-09-02T17:37:27.451610Z"
    }
   },
   "outputs": [],
   "source": [
    "\n",
    "df_airbnb[\"construction_year\"] = df_airbnb[\"construction_year\"].astype(int)"
   ]
  },
  {
   "cell_type": "markdown",
   "id": "5cce1ce5",
   "metadata": {
    "ExecuteTime": {
     "start_time": "2023-09-02T17:18:10.166001300Z"
    }
   },
   "source": [
    "#### Reemplaza los valores nulos por 0 en las columnas \"last review\" y \"reviews per month\". Cuando la columna number of reviews es 0."
   ]
  },
  {
   "cell_type": "code",
   "execution_count": 23,
   "id": "c7257afd",
   "metadata": {
    "ExecuteTime": {
     "end_time": "2023-09-02T17:37:29.510453Z",
     "start_time": "2023-09-02T17:37:29.427457400Z"
    }
   },
   "outputs": [
    {
     "name": "stdout",
     "output_type": "stream",
     "text": [
      "             id                                              name  \\\n",
      "2       1002403                    THE VILLAGE OF HARLEMNEW YORK    \n",
      "20      1012382                  Huge  BR Upper East  Cental Park   \n",
      "27      1016248  Magnifique Suite au N de Manhattan  vue Cloitres   \n",
      "37      1021771                       Clean and Quiet in Brooklyn   \n",
      "39      1022876                         Country space in the city   \n",
      "...         ...                                               ...   \n",
      "102590  6090228                Wonderful artists loft in Brooklyn   \n",
      "102592  6091333                   BR Ba in TriBeCa w outdoor deck   \n",
      "102594  6092437                        Spare room in Williamsburg   \n",
      "102596  6093542                     Comfy bright room in Brooklyn   \n",
      "102598  6094647                                  sf Luxury Studio   \n",
      "\n",
      "            host_id host_identity_verified host_name neighbourhood_group  \\\n",
      "2       78829239556             unverified     Elise           Manhattan   \n",
      "20      79805143117               verified    Audrey           Manhattan   \n",
      "27      38811420224               verified  Adrianna           Manhattan   \n",
      "37      26207748876               verified    Arthur            Brooklyn   \n",
      "39      49725315867               verified    Deanna            Brooklyn   \n",
      "...             ...                    ...       ...                 ...   \n",
      "102590   9184535139            unconfirmed    Daniel            Brooklyn   \n",
      "102592  53266862889            unconfirmed      Nick           Manhattan   \n",
      "102594  12312296767               verified      Krik            Brooklyn   \n",
      "102596  69050334417            unconfirmed     Megan            Brooklyn   \n",
      "102598  68170633372            unconfirmed   Rebecca           Manhattan   \n",
      "\n",
      "             neighbourhood       lat      long instant_bookable  ...   price  \\\n",
      "2                   Harlem  40.80902 -73.94190             True  ...   620.0   \n",
      "20             East Harlem  40.79685 -73.94872              NaN  ...   281.0   \n",
      "27                  Inwood  40.86754 -73.92639              NaN  ...   274.0   \n",
      "37      Bedford-Stuyvesant  40.68876 -73.94312            False  ...   203.0   \n",
      "39                Flatbush  40.63702 -73.96327             True  ...  1020.0   \n",
      "...                    ...       ...       ...              ...  ...     ...   \n",
      "102590       Crown Heights  40.66673 -73.96127             True  ...   250.0   \n",
      "102592             Tribeca  40.71845 -74.01183            False  ...   787.0   \n",
      "102594        Williamsburg  40.70862 -73.94651            False  ...   844.0   \n",
      "102596          Park Slope  40.67505 -73.98045             True  ...   988.0   \n",
      "102598     Upper West Side  40.76807 -73.98342            False  ...  1032.0   \n",
      "\n",
      "       service_fee  minimum_nights  number_of_reviews  last_review  \\\n",
      "2            124.0             3.0                0.0          NaN   \n",
      "20            56.0             7.0                0.0          NaN   \n",
      "27            55.0             4.0                0.0          NaN   \n",
      "37            41.0            60.0                0.0          NaN   \n",
      "39           204.0             1.0                0.0          NaN   \n",
      "...            ...             ...                ...          ...   \n",
      "102590        50.0             1.0                0.0          NaN   \n",
      "102592       157.0             1.0                0.0          NaN   \n",
      "102594       169.0             1.0                0.0          NaN   \n",
      "102596       198.0             3.0                0.0          NaN   \n",
      "102598       206.0             1.0                0.0          NaN   \n",
      "\n",
      "        reviews_per_month  review_rate_number calculated_host_listings_count  \\\n",
      "2                     NaN                 5.0                            1.0   \n",
      "20                    NaN                 3.0                            2.0   \n",
      "27                    NaN                 NaN                            1.0   \n",
      "37                    NaN                 NaN                            1.0   \n",
      "39                    NaN                 3.0                            1.0   \n",
      "...                   ...                 ...                            ...   \n",
      "102590                NaN                 1.0                            1.0   \n",
      "102592                NaN                 2.0                            1.0   \n",
      "102594                NaN                 3.0                            1.0   \n",
      "102596                NaN                 5.0                            1.0   \n",
      "102598                NaN                 3.0                            1.0   \n",
      "\n",
      "        availability_365                                        house_rules  \n",
      "2                  352.0  I encourage you to use my kitchen cooking and ...  \n",
      "20                 347.0  No smoking No pets  No shoes in the house Visi...  \n",
      "27                  96.0  To treat our home with respect  No smoking ins...  \n",
      "37                 294.0  NO Shoes in the house This is why my house is ...  \n",
      "39                 356.0  House Guidelines for our BnB We are delighted ...  \n",
      "...                  ...                                                ...  \n",
      "102590             276.0                                               NAME  \n",
      "102592             177.0  Guests should treat my home as if it were thei...  \n",
      "102594             227.0  No Smoking No Parties or Events of any kind Pl...  \n",
      "102596             342.0                                                NaN  \n",
      "102598              69.0                                                NaN  \n",
      "\n",
      "[15734 rows x 23 columns]\n",
      "Registros nulos en last review: 15734\n",
      "Registros nulos en reviews per month: 15734\n"
     ]
    }
   ],
   "source": [
    "filtered_df = df_airbnb[df_airbnb[\"number_of_reviews\"] == 0]\n",
    "# Muestra los registros filtrados\n",
    "print(filtered_df)\n",
    "\n",
    "# Cuenta los valores nulos en la columna \"last_review\"\n",
    "null_last_review = filtered_df[\"last_review\"].isnull().sum()\n",
    "# Cuenta los valores nulos en la columna \"reviews_per_month\"\n",
    "null_reviews_per_month = filtered_df[\"reviews_per_month\"].isnull().sum()\n",
    "\n",
    "# Muestra los resultados\n",
    "print(\"Registros nulos en last review:\", null_last_review)\n",
    "print(\"Registros nulos en reviews per month:\", null_reviews_per_month)"
   ]
  },
  {
   "cell_type": "code",
   "execution_count": 24,
   "id": "d98503a5",
   "metadata": {
    "ExecuteTime": {
     "end_time": "2023-09-02T17:37:33.606744300Z",
     "start_time": "2023-09-02T17:37:33.576666200Z"
    }
   },
   "outputs": [],
   "source": [
    "df_airbnb.loc[df_airbnb[\"number_of_reviews\"] == 0, \"last_review\"] = 0\n",
    "df_airbnb.loc[df_airbnb[\"number_of_reviews\"] == 0, \"reviews_per_month\"] = 0"
   ]
  },
  {
   "cell_type": "markdown",
   "id": "d445b96e",
   "metadata": {},
   "source": [
    "#### Remplazar los nulos de la columna house_rules "
   ]
  },
  {
   "cell_type": "code",
   "execution_count": 25,
   "id": "d0670bbc",
   "metadata": {
    "ExecuteTime": {
     "end_time": "2023-09-02T17:37:39.542777Z",
     "start_time": "2023-09-02T17:37:39.441782400Z"
    }
   },
   "outputs": [],
   "source": [
    "df_airbnb[\"house_rules\"] = df_airbnb[\"house_rules\"].fillna(\"No se Especificaron Las Reglas\")"
   ]
  },
  {
   "cell_type": "code",
   "execution_count": 26,
   "outputs": [
    {
     "data": {
      "text/plain": "             id                                            name      host_id  \\\n0       1001254               Clean  quiet apt home by the park  80014485718   \n1       1002102                           Skylit Midtown Castle  52335172823   \n2       1002403                  THE VILLAGE OF HARLEMNEW YORK   78829239556   \n3       1002755                                             NaN  85098326012   \n4       1003689  Entire Apt Spacious StudioLoft by central park  92037596077   \n...         ...                                             ...          ...   \n102594  6092437                      Spare room in Williamsburg  12312296767   \n102595  6092990                   Best Location near Columbia U  77864383453   \n102596  6093542                   Comfy bright room in Brooklyn  69050334417   \n102597  6094094                 Big StudioOne Stop from Midtown  11160591270   \n102598  6094647                                sf Luxury Studio  68170633372   \n\n       host_identity_verified    host_name neighbourhood_group  \\\n0                 unconfirmed     Madaline            Brooklyn   \n1                    verified        Jenna           Manhattan   \n2                  unverified        Elise           Manhattan   \n3                 unconfirmed        Garry            Brooklyn   \n4                    verified       Lyndon           Manhattan   \n...                       ...          ...                 ...   \n102594               verified         Krik            Brooklyn   \n102595            unconfirmed        Mifan           Manhattan   \n102596            unconfirmed        Megan            Brooklyn   \n102597            unconfirmed  Christopher              Queens   \n102598            unconfirmed      Rebecca           Manhattan   \n\n              neighbourhood       lat      long instant_bookable  ...   price  \\\n0                Kensington  40.64749 -73.97237            False  ...   966.0   \n1                   Midtown  40.75362 -73.98377            False  ...   142.0   \n2                    Harlem  40.80902 -73.94190             True  ...   620.0   \n3              Clinton Hill  40.68514 -73.95976             True  ...   368.0   \n4               East Harlem  40.79851 -73.94399            False  ...   204.0   \n...                     ...       ...       ...              ...  ...     ...   \n102594         Williamsburg  40.70862 -73.94651            False  ...   844.0   \n102595  Morningside Heights  40.80460 -73.96545             True  ...   837.0   \n102596           Park Slope  40.67505 -73.98045             True  ...   988.0   \n102597     Long Island City  40.74989 -73.93777             True  ...   546.0   \n102598      Upper West Side  40.76807 -73.98342            False  ...  1032.0   \n\n       service_fee  minimum_nights  number_of_reviews  last_review  \\\n0            193.0            10.0                9.0   10/19/2021   \n1             28.0            30.0               45.0    5/21/2022   \n2            124.0             3.0                0.0            0   \n3             74.0            30.0              270.0     7/5/2019   \n4             41.0            10.0                9.0   11/19/2018   \n...            ...             ...                ...          ...   \n102594       169.0             1.0                0.0            0   \n102595       167.0             1.0                1.0     7/6/2015   \n102596       198.0             3.0                0.0            0   \n102597       109.0             2.0                5.0   10/11/2015   \n102598       206.0             1.0                0.0            0   \n\n        reviews_per_month  review_rate_number calculated_host_listings_count  \\\n0                    0.21                 4.0                            6.0   \n1                    0.38                 4.0                            2.0   \n2                    0.00                 5.0                            1.0   \n3                    4.64                 4.0                            1.0   \n4                    0.10                 3.0                            1.0   \n...                   ...                 ...                            ...   \n102594               0.00                 3.0                            1.0   \n102595               0.02                 2.0                            2.0   \n102596               0.00                 5.0                            1.0   \n102597               0.10                 3.0                            1.0   \n102598               0.00                 3.0                            1.0   \n\n        availability_365                                        house_rules  \n0                  286.0  Clean up and treat the home the way youd like ...  \n1                  228.0  Pet friendly but please confirm with me if the...  \n2                  352.0  I encourage you to use my kitchen cooking and ...  \n3                  322.0                     No se Especificaron Las Reglas  \n4                  289.0  Please no smoking in the house porch or on the...  \n...                  ...                                                ...  \n102594             227.0  No Smoking No Parties or Events of any kind Pl...  \n102595             395.0  House rules Guests agree to the following term...  \n102596             342.0                     No se Especificaron Las Reglas  \n102597             386.0                     No se Especificaron Las Reglas  \n102598              69.0                     No se Especificaron Las Reglas  \n\n[102599 rows x 23 columns]",
      "text/html": "<div>\n<style scoped>\n    .dataframe tbody tr th:only-of-type {\n        vertical-align: middle;\n    }\n\n    .dataframe tbody tr th {\n        vertical-align: top;\n    }\n\n    .dataframe thead th {\n        text-align: right;\n    }\n</style>\n<table border=\"1\" class=\"dataframe\">\n  <thead>\n    <tr style=\"text-align: right;\">\n      <th></th>\n      <th>id</th>\n      <th>name</th>\n      <th>host_id</th>\n      <th>host_identity_verified</th>\n      <th>host_name</th>\n      <th>neighbourhood_group</th>\n      <th>neighbourhood</th>\n      <th>lat</th>\n      <th>long</th>\n      <th>instant_bookable</th>\n      <th>...</th>\n      <th>price</th>\n      <th>service_fee</th>\n      <th>minimum_nights</th>\n      <th>number_of_reviews</th>\n      <th>last_review</th>\n      <th>reviews_per_month</th>\n      <th>review_rate_number</th>\n      <th>calculated_host_listings_count</th>\n      <th>availability_365</th>\n      <th>house_rules</th>\n    </tr>\n  </thead>\n  <tbody>\n    <tr>\n      <th>0</th>\n      <td>1001254</td>\n      <td>Clean  quiet apt home by the park</td>\n      <td>80014485718</td>\n      <td>unconfirmed</td>\n      <td>Madaline</td>\n      <td>Brooklyn</td>\n      <td>Kensington</td>\n      <td>40.64749</td>\n      <td>-73.97237</td>\n      <td>False</td>\n      <td>...</td>\n      <td>966.0</td>\n      <td>193.0</td>\n      <td>10.0</td>\n      <td>9.0</td>\n      <td>10/19/2021</td>\n      <td>0.21</td>\n      <td>4.0</td>\n      <td>6.0</td>\n      <td>286.0</td>\n      <td>Clean up and treat the home the way youd like ...</td>\n    </tr>\n    <tr>\n      <th>1</th>\n      <td>1002102</td>\n      <td>Skylit Midtown Castle</td>\n      <td>52335172823</td>\n      <td>verified</td>\n      <td>Jenna</td>\n      <td>Manhattan</td>\n      <td>Midtown</td>\n      <td>40.75362</td>\n      <td>-73.98377</td>\n      <td>False</td>\n      <td>...</td>\n      <td>142.0</td>\n      <td>28.0</td>\n      <td>30.0</td>\n      <td>45.0</td>\n      <td>5/21/2022</td>\n      <td>0.38</td>\n      <td>4.0</td>\n      <td>2.0</td>\n      <td>228.0</td>\n      <td>Pet friendly but please confirm with me if the...</td>\n    </tr>\n    <tr>\n      <th>2</th>\n      <td>1002403</td>\n      <td>THE VILLAGE OF HARLEMNEW YORK</td>\n      <td>78829239556</td>\n      <td>unverified</td>\n      <td>Elise</td>\n      <td>Manhattan</td>\n      <td>Harlem</td>\n      <td>40.80902</td>\n      <td>-73.94190</td>\n      <td>True</td>\n      <td>...</td>\n      <td>620.0</td>\n      <td>124.0</td>\n      <td>3.0</td>\n      <td>0.0</td>\n      <td>0</td>\n      <td>0.00</td>\n      <td>5.0</td>\n      <td>1.0</td>\n      <td>352.0</td>\n      <td>I encourage you to use my kitchen cooking and ...</td>\n    </tr>\n    <tr>\n      <th>3</th>\n      <td>1002755</td>\n      <td>NaN</td>\n      <td>85098326012</td>\n      <td>unconfirmed</td>\n      <td>Garry</td>\n      <td>Brooklyn</td>\n      <td>Clinton Hill</td>\n      <td>40.68514</td>\n      <td>-73.95976</td>\n      <td>True</td>\n      <td>...</td>\n      <td>368.0</td>\n      <td>74.0</td>\n      <td>30.0</td>\n      <td>270.0</td>\n      <td>7/5/2019</td>\n      <td>4.64</td>\n      <td>4.0</td>\n      <td>1.0</td>\n      <td>322.0</td>\n      <td>No se Especificaron Las Reglas</td>\n    </tr>\n    <tr>\n      <th>4</th>\n      <td>1003689</td>\n      <td>Entire Apt Spacious StudioLoft by central park</td>\n      <td>92037596077</td>\n      <td>verified</td>\n      <td>Lyndon</td>\n      <td>Manhattan</td>\n      <td>East Harlem</td>\n      <td>40.79851</td>\n      <td>-73.94399</td>\n      <td>False</td>\n      <td>...</td>\n      <td>204.0</td>\n      <td>41.0</td>\n      <td>10.0</td>\n      <td>9.0</td>\n      <td>11/19/2018</td>\n      <td>0.10</td>\n      <td>3.0</td>\n      <td>1.0</td>\n      <td>289.0</td>\n      <td>Please no smoking in the house porch or on the...</td>\n    </tr>\n    <tr>\n      <th>...</th>\n      <td>...</td>\n      <td>...</td>\n      <td>...</td>\n      <td>...</td>\n      <td>...</td>\n      <td>...</td>\n      <td>...</td>\n      <td>...</td>\n      <td>...</td>\n      <td>...</td>\n      <td>...</td>\n      <td>...</td>\n      <td>...</td>\n      <td>...</td>\n      <td>...</td>\n      <td>...</td>\n      <td>...</td>\n      <td>...</td>\n      <td>...</td>\n      <td>...</td>\n      <td>...</td>\n    </tr>\n    <tr>\n      <th>102594</th>\n      <td>6092437</td>\n      <td>Spare room in Williamsburg</td>\n      <td>12312296767</td>\n      <td>verified</td>\n      <td>Krik</td>\n      <td>Brooklyn</td>\n      <td>Williamsburg</td>\n      <td>40.70862</td>\n      <td>-73.94651</td>\n      <td>False</td>\n      <td>...</td>\n      <td>844.0</td>\n      <td>169.0</td>\n      <td>1.0</td>\n      <td>0.0</td>\n      <td>0</td>\n      <td>0.00</td>\n      <td>3.0</td>\n      <td>1.0</td>\n      <td>227.0</td>\n      <td>No Smoking No Parties or Events of any kind Pl...</td>\n    </tr>\n    <tr>\n      <th>102595</th>\n      <td>6092990</td>\n      <td>Best Location near Columbia U</td>\n      <td>77864383453</td>\n      <td>unconfirmed</td>\n      <td>Mifan</td>\n      <td>Manhattan</td>\n      <td>Morningside Heights</td>\n      <td>40.80460</td>\n      <td>-73.96545</td>\n      <td>True</td>\n      <td>...</td>\n      <td>837.0</td>\n      <td>167.0</td>\n      <td>1.0</td>\n      <td>1.0</td>\n      <td>7/6/2015</td>\n      <td>0.02</td>\n      <td>2.0</td>\n      <td>2.0</td>\n      <td>395.0</td>\n      <td>House rules Guests agree to the following term...</td>\n    </tr>\n    <tr>\n      <th>102596</th>\n      <td>6093542</td>\n      <td>Comfy bright room in Brooklyn</td>\n      <td>69050334417</td>\n      <td>unconfirmed</td>\n      <td>Megan</td>\n      <td>Brooklyn</td>\n      <td>Park Slope</td>\n      <td>40.67505</td>\n      <td>-73.98045</td>\n      <td>True</td>\n      <td>...</td>\n      <td>988.0</td>\n      <td>198.0</td>\n      <td>3.0</td>\n      <td>0.0</td>\n      <td>0</td>\n      <td>0.00</td>\n      <td>5.0</td>\n      <td>1.0</td>\n      <td>342.0</td>\n      <td>No se Especificaron Las Reglas</td>\n    </tr>\n    <tr>\n      <th>102597</th>\n      <td>6094094</td>\n      <td>Big StudioOne Stop from Midtown</td>\n      <td>11160591270</td>\n      <td>unconfirmed</td>\n      <td>Christopher</td>\n      <td>Queens</td>\n      <td>Long Island City</td>\n      <td>40.74989</td>\n      <td>-73.93777</td>\n      <td>True</td>\n      <td>...</td>\n      <td>546.0</td>\n      <td>109.0</td>\n      <td>2.0</td>\n      <td>5.0</td>\n      <td>10/11/2015</td>\n      <td>0.10</td>\n      <td>3.0</td>\n      <td>1.0</td>\n      <td>386.0</td>\n      <td>No se Especificaron Las Reglas</td>\n    </tr>\n    <tr>\n      <th>102598</th>\n      <td>6094647</td>\n      <td>sf Luxury Studio</td>\n      <td>68170633372</td>\n      <td>unconfirmed</td>\n      <td>Rebecca</td>\n      <td>Manhattan</td>\n      <td>Upper West Side</td>\n      <td>40.76807</td>\n      <td>-73.98342</td>\n      <td>False</td>\n      <td>...</td>\n      <td>1032.0</td>\n      <td>206.0</td>\n      <td>1.0</td>\n      <td>0.0</td>\n      <td>0</td>\n      <td>0.00</td>\n      <td>3.0</td>\n      <td>1.0</td>\n      <td>69.0</td>\n      <td>No se Especificaron Las Reglas</td>\n    </tr>\n  </tbody>\n</table>\n<p>102599 rows × 23 columns</p>\n</div>"
     },
     "execution_count": 26,
     "metadata": {},
     "output_type": "execute_result"
    }
   ],
   "source": [
    "df_airbnb"
   ],
   "metadata": {
    "collapsed": false,
    "ExecuteTime": {
     "end_time": "2023-09-02T17:37:44.461135700Z",
     "start_time": "2023-09-02T17:37:44.203135500Z"
    }
   },
   "id": "d13e4833e596153"
  },
  {
   "cell_type": "markdown",
   "source": [
    "## these nulls will already be treated in the pure transformation phase and not in this EDA phase."
   ],
   "metadata": {
    "collapsed": false
   },
   "id": "94002f258c692243"
  },
  {
   "cell_type": "code",
   "execution_count": 27,
   "outputs": [
    {
     "data": {
      "text/plain": "availability_365                  448\nminimum_nights                    409\nhost_name                         406\nreview_rate_number                326\ncalculated_host_listings_count    319\nservice_fee                       273\nname                              250\nprice                             247\nnumber_of_reviews                 183\nlast_review                       159\nreviews_per_month                 145\ninstant_bookable                  105\ncancellation_policy                76\nneighbourhood_group                29\nneighbourhood                      16\nlong                                8\nlat                                 8\nid                                  0\nroom_type                           0\nconstruction_year                   0\nhost_identity_verified              0\nhost_id                             0\nhouse_rules                         0\ndtype: int64"
     },
     "execution_count": 27,
     "metadata": {},
     "output_type": "execute_result"
    }
   ],
   "source": [
    "(\n",
    "    df_airbnb\n",
    "    .isnull()\n",
    "    .sum()\n",
    "    .sort_values(ascending=False)\n",
    ")\n"
   ],
   "metadata": {
    "collapsed": false,
    "ExecuteTime": {
     "end_time": "2023-09-02T17:38:42.776614200Z",
     "start_time": "2023-09-02T17:38:42.519616100Z"
    }
   },
   "id": "dc47b182420f7127"
  },
  {
   "cell_type": "markdown",
   "id": "51b08110",
   "metadata": {},
   "source": [
    "### Creación de las dimensiones "
   ]
  },
  {
   "cell_type": "code",
   "execution_count": null,
   "id": "6894f72f",
   "metadata": {
    "ExecuteTime": {
     "start_time": "2023-09-02T17:18:10.178994200Z"
    }
   },
   "outputs": [],
   "source": [
    "neighbourhood_table = df_airbnb[[\"neighbourhood_group\", \"neighbourhood\", \"lat\", \"long\"]]\n",
    "neighbourhood_table.head(2)"
   ]
  },
  {
   "cell_type": "code",
   "execution_count": null,
   "id": "02d01933",
   "metadata": {},
   "outputs": [],
   "source": [
    "host_table = df_airbnb[[\"host_id\", \"host_name\", \"host_identity_verified\"]]\n",
    "host_table.head(2)"
   ]
  },
  {
   "cell_type": "code",
   "execution_count": null,
   "id": "ecd0bcae",
   "metadata": {
    "ExecuteTime": {
     "start_time": "2023-09-02T17:18:10.180031100Z"
    }
   },
   "outputs": [],
   "source": [
    "airbnb_detail = df_airbnb[\n",
    "    [\"id\", \"name\", \"instant_bookable\", \n",
    "     \"cancellation_policy\", \"room_type\", \"construction_year\", \n",
    "     \"price\", \"service_fee\", \"minimum_nights\", \"number_of_reviews\", \n",
    "     \"last_review\", \"reviews_per_month\", \"review_rate_number\", \"calculated_host_listings_count\", \n",
    "     \"availability_365\", \"house_rules\"]]\n",
    "\n",
    "airbnb_detail.head(2)"
   ]
  },
  {
   "cell_type": "markdown",
   "id": "51da5812",
   "metadata": {},
   "source": [
    "### Transformaciones a la dimensión de Neighbourhoods"
   ]
  },
  {
   "cell_type": "markdown",
   "id": "bb4e0c20",
   "metadata": {
    "ExecuteTime": {
     "start_time": "2023-09-02T17:18:10.187999300Z"
    }
   },
   "source": [
    "#### Agrupamos con el fin de no tener datos redundantes, calculando además promedio de latitud y longitud"
   ]
  },
  {
   "cell_type": "code",
   "execution_count": null,
   "id": "b3505d7f",
   "metadata": {},
   "outputs": [],
   "source": [
    "neighbourhood_table = neighbourhood_table.groupby([\"neighbourhood_group\", \"neighbourhood\"]).agg({\n",
    "    \"lat\": \"mean\",\n",
    "    \"long\": \"mean\"\n",
    "}).reset_index()\n",
    "\n",
    "#Creamos ID y reorganizamos columnas\n",
    "neighbourhood_table[\"neighbourhood_id\"] = range(1, len(neighbourhood_table) + 1)\n",
    "column_order = [\"neighbourhood_id\", \"neighbourhood_group\", \"neighbourhood\", \"lat\", \"long\"]\n",
    "neighbourhood_table = neighbourhood_table[column_order]\n",
    "\n",
    "neighbourhood_table.head(2)"
   ]
  },
  {
   "cell_type": "markdown",
   "id": "d66cfe2b",
   "metadata": {
    "ExecuteTime": {
     "start_time": "2023-09-02T17:18:10.189004100Z"
    }
   },
   "source": [
    "### Proceso de limpieza a nuestra tabla de hecho (df_airbnb)"
   ]
  },
  {
   "cell_type": "code",
   "execution_count": null,
   "id": "b3156de1",
   "metadata": {
    "ExecuteTime": {
     "start_time": "2023-09-02T17:18:10.193030300Z"
    }
   },
   "outputs": [],
   "source": [
    "#Delete the following columns since we already set up diferent tables to save all the information related with neighbourhoods and hosts\n",
    "df_airbnb.drop(\n",
    "         [\"id\", \"name\", \"instant_bookable\", \n",
    "     \"cancellation_policy\", \"room_type\", \"construction_year\", \n",
    "     \"price\", \"service_fee\", \"minimum_nights\", \"number_of_reviews\", \n",
    "     \"last_review\", \"reviews_per_month\", \"review_rate_number\", \n",
    "     \"calculated_host_listings_count\", \n",
    "     \"availability_365\", \"house_rules\", \"host_name\", \n",
    "     \"host_identity_verified\", \"lat\", \"long\"], axis=1, inplace=True)"
   ]
  },
  {
   "cell_type": "markdown",
   "id": "4bd839ed",
   "metadata": {},
   "source": [
    "#### Se cambian las columnas neighbourhood_group y neighbourhood por un identificador númerico"
   ]
  },
  {
   "cell_type": "code",
   "execution_count": null,
   "id": "32e980ca",
   "metadata": {
    "ExecuteTime": {
     "start_time": "2023-09-02T17:18:10.193995600Z"
    }
   },
   "outputs": [],
   "source": [
    "def get_neighbourhood_id(row):\n",
    "    mask = (neighbourhood_table[\"neighbourhood_group\"] == row[\"neighbourhood_group\"]) & (neighbourhood_table[\"neighbourhood\"] == row[\"neighbourhood\"])\n",
    "    matched_row = neighbourhood_table[mask]\n",
    "    if not matched_row.empty:\n",
    "        return matched_row[\"neighbourhood_id\"].iloc[0]\n",
    "    else:\n",
    "        return None\n",
    "\n",
    "# Aplicar la función para obtener \"neighbourhood_id\"\n",
    "df_airbnb[\"neighbourhood_id\"] = df_airbnb.apply(get_neighbourhood_id, axis=1)"
   ]
  },
  {
   "cell_type": "markdown",
   "id": "b48499d2",
   "metadata": {},
   "source": [
    "#### Una vez asignados los IDs de forma númerica podemos prescindir de las columnas iniciales"
   ]
  },
  {
   "cell_type": "code",
   "execution_count": null,
   "id": "c11d6730",
   "metadata": {
    "ExecuteTime": {
     "start_time": "2023-09-02T17:18:10.197993500Z"
    }
   },
   "outputs": [],
   "source": [
    "df_airbnb.drop([\"neighbourhood_group\", \"neighbourhood\"], axis=1, inplace=True)\n",
    "df_airbnb"
   ]
  },
  {
   "cell_type": "markdown",
   "id": "c8bf7cbb",
   "metadata": {
    "ExecuteTime": {
     "start_time": "2023-09-02T17:18:10.199994Z"
    }
   },
   "source": [
    "## Proceso de Carga"
   ]
  },
  {
   "cell_type": "code",
   "execution_count": null,
   "id": "dfc4f0b3",
   "metadata": {
    "ExecuteTime": {
     "start_time": "2023-09-02T17:18:10.200993700Z"
    }
   },
   "outputs": [],
   "source": [
    "#Creating engine\n",
    "engine1 = creating_engine()\n",
    "\n",
    "#Creating session\n",
    "session1 = creating_session(engine1)"
   ]
  }
 ],
 "metadata": {
  "kernelspec": {
   "display_name": "Python 3",
   "language": "python",
   "name": "python3"
  },
  "language_info": {
   "codemirror_mode": {
    "name": "ipython",
    "version": 3
   },
   "file_extension": ".py",
   "mimetype": "text/x-python",
   "name": "python",
   "nbconvert_exporter": "python",
   "pygments_lexer": "ipython3",
   "version": "3.11.4"
  }
 },
 "nbformat": 4,
 "nbformat_minor": 5
}
