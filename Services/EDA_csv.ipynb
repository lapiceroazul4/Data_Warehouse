{
 "cells": [
  {
   "cell_type": "markdown",
   "metadata": {},
   "source": [
    "#### import libraries"
   ]
  },
  {
   "cell_type": "code",
   "execution_count": null,
   "id": "initial_id",
   "metadata": {
    "ExecuteTime": {
     "end_time": "2023-09-02T17:31:24.858414700Z",
     "start_time": "2023-09-02T17:31:22.890046300Z"
    },
    "collapsed": true
   },
   "outputs": [],
   "source": [
    "import numpy as np\n",
    "import pandas as pd\n",
    "import seaborn as sns\n",
    "from Database import Airbnbs, Airbnb_Details, Prices, Hosts, creating_engine, creating_session, closing_session, db_url, Base"
   ]
  },
  {
   "cell_type": "markdown",
   "id": "897969b6",
   "metadata": {},
   "source": [
    "#### Exploration Process"
   ]
  },
  {
   "cell_type": "markdown",
   "id": "31ae3036de14af47",
   "metadata": {
    "collapsed": false
   },
   "source": [
    "##### read the files using pandas"
   ]
  },
  {
   "cell_type": "code",
   "execution_count": 179,
   "id": "ca1c3c2ea572b0c2",
   "metadata": {
    "ExecuteTime": {
     "end_time": "2023-09-02T17:31:26.050126300Z",
     "start_time": "2023-09-02T17:31:24.879412800Z"
    },
    "collapsed": false
   },
   "outputs": [
    {
     "name": "stderr",
     "output_type": "stream",
     "text": [
      "/tmp/ipykernel_2461/810795504.py:1: DtypeWarning: Columns (25) have mixed types. Specify dtype option on import or set low_memory=False.\n",
      "  df_airbnb=pd.read_csv(\"../Data/Airbnb_Open_Data.csv\",  na_values=[''])\n"
     ]
    },
    {
     "data": {
      "text/html": [
       "<div>\n",
       "<style scoped>\n",
       "    .dataframe tbody tr th:only-of-type {\n",
       "        vertical-align: middle;\n",
       "    }\n",
       "\n",
       "    .dataframe tbody tr th {\n",
       "        vertical-align: top;\n",
       "    }\n",
       "\n",
       "    .dataframe thead th {\n",
       "        text-align: right;\n",
       "    }\n",
       "</style>\n",
       "<table border=\"1\" class=\"dataframe\">\n",
       "  <thead>\n",
       "    <tr style=\"text-align: right;\">\n",
       "      <th></th>\n",
       "      <th>id</th>\n",
       "      <th>NAME</th>\n",
       "      <th>host id</th>\n",
       "      <th>host_identity_verified</th>\n",
       "      <th>host name</th>\n",
       "      <th>neighbourhood group</th>\n",
       "      <th>neighbourhood</th>\n",
       "      <th>lat</th>\n",
       "      <th>long</th>\n",
       "      <th>country</th>\n",
       "      <th>...</th>\n",
       "      <th>service fee</th>\n",
       "      <th>minimum nights</th>\n",
       "      <th>number of reviews</th>\n",
       "      <th>last review</th>\n",
       "      <th>reviews per month</th>\n",
       "      <th>review rate number</th>\n",
       "      <th>calculated host listings count</th>\n",
       "      <th>availability 365</th>\n",
       "      <th>house_rules</th>\n",
       "      <th>license</th>\n",
       "    </tr>\n",
       "  </thead>\n",
       "  <tbody>\n",
       "    <tr>\n",
       "      <th>0</th>\n",
       "      <td>1001254</td>\n",
       "      <td>Clean &amp; quiet apt home by the park</td>\n",
       "      <td>80014485718</td>\n",
       "      <td>unconfirmed</td>\n",
       "      <td>Madaline</td>\n",
       "      <td>Brooklyn</td>\n",
       "      <td>Kensington</td>\n",
       "      <td>40.64749</td>\n",
       "      <td>-73.97237</td>\n",
       "      <td>United States</td>\n",
       "      <td>...</td>\n",
       "      <td>$193</td>\n",
       "      <td>10.0</td>\n",
       "      <td>9.0</td>\n",
       "      <td>10/19/2021</td>\n",
       "      <td>0.21</td>\n",
       "      <td>4.0</td>\n",
       "      <td>6.0</td>\n",
       "      <td>286.0</td>\n",
       "      <td>Clean up and treat the home the way you'd like...</td>\n",
       "      <td>NaN</td>\n",
       "    </tr>\n",
       "    <tr>\n",
       "      <th>1</th>\n",
       "      <td>1002102</td>\n",
       "      <td>Skylit Midtown Castle</td>\n",
       "      <td>52335172823</td>\n",
       "      <td>verified</td>\n",
       "      <td>Jenna</td>\n",
       "      <td>Manhattan</td>\n",
       "      <td>Midtown</td>\n",
       "      <td>40.75362</td>\n",
       "      <td>-73.98377</td>\n",
       "      <td>United States</td>\n",
       "      <td>...</td>\n",
       "      <td>$28</td>\n",
       "      <td>30.0</td>\n",
       "      <td>45.0</td>\n",
       "      <td>5/21/2022</td>\n",
       "      <td>0.38</td>\n",
       "      <td>4.0</td>\n",
       "      <td>2.0</td>\n",
       "      <td>228.0</td>\n",
       "      <td>Pet friendly but please confirm with me if the...</td>\n",
       "      <td>NaN</td>\n",
       "    </tr>\n",
       "  </tbody>\n",
       "</table>\n",
       "<p>2 rows × 26 columns</p>\n",
       "</div>"
      ],
      "text/plain": [
       "        id                                NAME      host id  \\\n",
       "0  1001254  Clean & quiet apt home by the park  80014485718   \n",
       "1  1002102               Skylit Midtown Castle  52335172823   \n",
       "\n",
       "  host_identity_verified host name neighbourhood group neighbourhood  \\\n",
       "0            unconfirmed  Madaline            Brooklyn    Kensington   \n",
       "1               verified     Jenna           Manhattan       Midtown   \n",
       "\n",
       "        lat      long        country  ... service fee minimum nights  \\\n",
       "0  40.64749 -73.97237  United States  ...       $193            10.0   \n",
       "1  40.75362 -73.98377  United States  ...        $28            30.0   \n",
       "\n",
       "  number of reviews last review  reviews per month review rate number  \\\n",
       "0               9.0  10/19/2021               0.21                4.0   \n",
       "1              45.0   5/21/2022               0.38                4.0   \n",
       "\n",
       "  calculated host listings count  availability 365  \\\n",
       "0                            6.0             286.0   \n",
       "1                            2.0             228.0   \n",
       "\n",
       "                                         house_rules license  \n",
       "0  Clean up and treat the home the way you'd like...     NaN  \n",
       "1  Pet friendly but please confirm with me if the...     NaN  \n",
       "\n",
       "[2 rows x 26 columns]"
      ]
     },
     "execution_count": 179,
     "metadata": {},
     "output_type": "execute_result"
    }
   ],
   "source": [
    "df_airbnb=pd.read_csv(\"../Data/Airbnb_Open_Data.csv\",  na_values=[''])\n",
    "df_airbnb.head(2)"
   ]
  },
  {
   "cell_type": "markdown",
   "id": "a9e73a38",
   "metadata": {},
   "source": [
    "##### pre-process data to send to the Database"
   ]
  },
  {
   "cell_type": "code",
   "execution_count": 180,
   "id": "82630eb1",
   "metadata": {
    "ExecuteTime": {
     "end_time": "2023-09-02T17:31:32.277816500Z",
     "start_time": "2023-09-02T17:31:28.865976700Z"
    }
   },
   "outputs": [],
   "source": [
    "#We use regex to avoid special characters and numbers\n",
    "df_airbnb[\"NAME\"] = df_airbnb[\"NAME\"].str.replace(r'[^a-zA-Z\\s]', '', regex=True)\n",
    "df_airbnb[\"house_rules\"] = df_airbnb[\"house_rules\"].str.replace(r'[^a-zA-Z0-9\\s]', '', regex=True)\n",
    "df_airbnb[\"host name\"] = df_airbnb[\"host name\"].str.replace(r'[^a-zA-Z\\s]', '', regex=True)\n",
    "\n",
    "#We drop those columns that do not contribute significant value to the code.\n",
    "df_airbnb.drop([\"license\", \"country\", \"country code\"], axis=1, inplace=True)\n",
    "\n",
    "#We remove the null values from the host name.\n",
    "df_airbnb[\"host name\"].fillna(\"no provided\") \n",
    "\n",
    "#We only accept positive values for the \"minimum nights\" column.\n",
    "df_airbnb[\"minimum nights\"] = df_airbnb[\"minimum nights\"].abs()\n",
    "\n",
    "df_airbnb.to_csv(\"import.csv\", encoding=\"utf-8\", index=False)"
   ]
  },
  {
   "cell_type": "markdown",
   "id": "7308e1f5666db72",
   "metadata": {
    "collapsed": false
   },
   "source": [
    "##### Connect to Postgres"
   ]
  },
  {
   "cell_type": "code",
   "execution_count": 181,
   "id": "c41d775e6341f415",
   "metadata": {
    "ExecuteTime": {
     "end_time": "2023-09-02T17:32:23.812988800Z",
     "start_time": "2023-09-02T17:32:23.726515600Z"
    },
    "collapsed": false
   },
   "outputs": [],
   "source": [
    "# Create the engine and the session\n",
    "engine = creating_engine()\n",
    "session = creating_session(engine)"
   ]
  },
  {
   "cell_type": "markdown",
   "id": "38b47cf0a7c08846",
   "metadata": {
    "collapsed": false
   },
   "source": [
    "##### Creamos las tablas de Database.py"
   ]
  },
  {
   "cell_type": "code",
   "execution_count": 182,
   "id": "1fc4ba98ee629a94",
   "metadata": {
    "ExecuteTime": {
     "end_time": "2023-09-02T17:35:20.091424200Z",
     "start_time": "2023-09-02T17:35:12.379706500Z"
    },
    "collapsed": false
   },
   "outputs": [],
   "source": [
    "# Crea la tablas si no existen\n",
    "Base.metadata.create_all(engine) "
   ]
  },
  {
   "cell_type": "markdown",
   "id": "2fd3f38a2366d6fa",
   "metadata": {
    "collapsed": false
   },
   "source": [
    "##### Send data to PostgreSQL\n"
   ]
  },
  {
   "cell_type": "code",
   "execution_count": 183,
   "id": "436c06b71dc9a36b",
   "metadata": {
    "ExecuteTime": {
     "end_time": "2023-09-02T17:35:54.216241600Z",
     "start_time": "2023-09-02T17:35:48.662322200Z"
    },
    "collapsed": false
   },
   "outputs": [],
   "source": [
    "# Load data into the database.\n",
    "table = \"raw_data\"\n",
    "df_airbnb.to_sql(table, engine, if_exists=\"replace\", index=False)\n",
    "\n",
    "# Closing the session\n",
    "closing_session(session)"
   ]
  },
  {
   "cell_type": "code",
   "execution_count": 184,
   "id": "a6e644a481dc29af",
   "metadata": {
    "ExecuteTime": {
     "end_time": "2023-09-02T17:36:24.554094300Z",
     "start_time": "2023-09-02T17:36:24.205011800Z"
    },
    "collapsed": false
   },
   "outputs": [
    {
     "data": {
      "text/html": [
       "<div>\n",
       "<style scoped>\n",
       "    .dataframe tbody tr th:only-of-type {\n",
       "        vertical-align: middle;\n",
       "    }\n",
       "\n",
       "    .dataframe tbody tr th {\n",
       "        vertical-align: top;\n",
       "    }\n",
       "\n",
       "    .dataframe thead th {\n",
       "        text-align: right;\n",
       "    }\n",
       "</style>\n",
       "<table border=\"1\" class=\"dataframe\">\n",
       "  <thead>\n",
       "    <tr style=\"text-align: right;\">\n",
       "      <th></th>\n",
       "      <th>id</th>\n",
       "      <th>NAME</th>\n",
       "      <th>host id</th>\n",
       "      <th>host_identity_verified</th>\n",
       "      <th>host name</th>\n",
       "      <th>neighbourhood group</th>\n",
       "      <th>neighbourhood</th>\n",
       "      <th>lat</th>\n",
       "      <th>long</th>\n",
       "      <th>instant_bookable</th>\n",
       "      <th>...</th>\n",
       "      <th>price</th>\n",
       "      <th>service fee</th>\n",
       "      <th>minimum nights</th>\n",
       "      <th>number of reviews</th>\n",
       "      <th>last review</th>\n",
       "      <th>reviews per month</th>\n",
       "      <th>review rate number</th>\n",
       "      <th>calculated host listings count</th>\n",
       "      <th>availability 365</th>\n",
       "      <th>house_rules</th>\n",
       "    </tr>\n",
       "  </thead>\n",
       "  <tbody>\n",
       "    <tr>\n",
       "      <th>0</th>\n",
       "      <td>1001254</td>\n",
       "      <td>Clean  quiet apt home by the park</td>\n",
       "      <td>80014485718</td>\n",
       "      <td>unconfirmed</td>\n",
       "      <td>Madaline</td>\n",
       "      <td>Brooklyn</td>\n",
       "      <td>Kensington</td>\n",
       "      <td>40.64749</td>\n",
       "      <td>-73.97237</td>\n",
       "      <td>False</td>\n",
       "      <td>...</td>\n",
       "      <td>$966</td>\n",
       "      <td>$193</td>\n",
       "      <td>10.0</td>\n",
       "      <td>9.0</td>\n",
       "      <td>10/19/2021</td>\n",
       "      <td>0.21</td>\n",
       "      <td>4.0</td>\n",
       "      <td>6.0</td>\n",
       "      <td>286.0</td>\n",
       "      <td>Clean up and treat the home the way youd like ...</td>\n",
       "    </tr>\n",
       "    <tr>\n",
       "      <th>1</th>\n",
       "      <td>1002102</td>\n",
       "      <td>Skylit Midtown Castle</td>\n",
       "      <td>52335172823</td>\n",
       "      <td>verified</td>\n",
       "      <td>Jenna</td>\n",
       "      <td>Manhattan</td>\n",
       "      <td>Midtown</td>\n",
       "      <td>40.75362</td>\n",
       "      <td>-73.98377</td>\n",
       "      <td>False</td>\n",
       "      <td>...</td>\n",
       "      <td>$142</td>\n",
       "      <td>$28</td>\n",
       "      <td>30.0</td>\n",
       "      <td>45.0</td>\n",
       "      <td>5/21/2022</td>\n",
       "      <td>0.38</td>\n",
       "      <td>4.0</td>\n",
       "      <td>2.0</td>\n",
       "      <td>228.0</td>\n",
       "      <td>Pet friendly but please confirm with me if the...</td>\n",
       "    </tr>\n",
       "  </tbody>\n",
       "</table>\n",
       "<p>2 rows × 23 columns</p>\n",
       "</div>"
      ],
      "text/plain": [
       "        id                               NAME      host id  \\\n",
       "0  1001254  Clean  quiet apt home by the park  80014485718   \n",
       "1  1002102              Skylit Midtown Castle  52335172823   \n",
       "\n",
       "  host_identity_verified host name neighbourhood group neighbourhood  \\\n",
       "0            unconfirmed  Madaline            Brooklyn    Kensington   \n",
       "1               verified     Jenna           Manhattan       Midtown   \n",
       "\n",
       "        lat      long instant_bookable  ...  price service fee  \\\n",
       "0  40.64749 -73.97237            False  ...  $966        $193    \n",
       "1  40.75362 -73.98377            False  ...  $142         $28    \n",
       "\n",
       "   minimum nights number of reviews last review  reviews per month  \\\n",
       "0            10.0               9.0  10/19/2021               0.21   \n",
       "1            30.0              45.0   5/21/2022               0.38   \n",
       "\n",
       "   review rate number calculated host listings count  availability 365  \\\n",
       "0                 4.0                            6.0             286.0   \n",
       "1                 4.0                            2.0             228.0   \n",
       "\n",
       "                                         house_rules  \n",
       "0  Clean up and treat the home the way youd like ...  \n",
       "1  Pet friendly but please confirm with me if the...  \n",
       "\n",
       "[2 rows x 23 columns]"
      ]
     },
     "execution_count": 184,
     "metadata": {},
     "output_type": "execute_result"
    }
   ],
   "source": [
    "df_airbnb.head(2)"
   ]
  },
  {
   "cell_type": "markdown",
   "id": "a1024eb23322122e",
   "metadata": {
    "ExecuteTime": {
     "end_time": "2023-09-02T17:18:36.663795300Z",
     "start_time": "2023-09-02T17:18:36.309185Z"
    },
    "collapsed": false
   },
   "source": [
    "#### What type of data are the variables?"
   ]
  },
  {
   "cell_type": "code",
   "execution_count": 185,
   "id": "a62739d29da757e8",
   "metadata": {
    "ExecuteTime": {
     "end_time": "2023-09-02T17:36:40.449312400Z",
     "start_time": "2023-09-02T17:36:40.428311500Z"
    },
    "collapsed": false
   },
   "outputs": [
    {
     "data": {
      "text/plain": [
       "id                                  int64\n",
       "NAME                               object\n",
       "host id                             int64\n",
       "host_identity_verified             object\n",
       "host name                          object\n",
       "neighbourhood group                object\n",
       "neighbourhood                      object\n",
       "lat                               float64\n",
       "long                              float64\n",
       "instant_bookable                   object\n",
       "cancellation_policy                object\n",
       "room type                          object\n",
       "Construction year                 float64\n",
       "price                              object\n",
       "service fee                        object\n",
       "minimum nights                    float64\n",
       "number of reviews                 float64\n",
       "last review                        object\n",
       "reviews per month                 float64\n",
       "review rate number                float64\n",
       "calculated host listings count    float64\n",
       "availability 365                  float64\n",
       "house_rules                        object\n",
       "dtype: object"
      ]
     },
     "execution_count": 185,
     "metadata": {},
     "output_type": "execute_result"
    }
   ],
   "source": [
    "df_airbnb.dtypes"
   ]
  },
  {
   "cell_type": "markdown",
   "id": "b6a7834d2eae2aeb",
   "metadata": {
    "ExecuteTime": {
     "end_time": "2023-09-02T17:18:40.052779200Z",
     "start_time": "2023-09-02T17:18:39.928781600Z"
    },
    "collapsed": false
   },
   "source": [
    "#### How many variables of each data type do we have in the dataset?"
   ]
  },
  {
   "cell_type": "code",
   "execution_count": 186,
   "id": "e1cb852aef5ffedf",
   "metadata": {
    "ExecuteTime": {
     "end_time": "2023-09-02T17:36:43.742405Z",
     "start_time": "2023-09-02T17:36:43.725961700Z"
    },
    "collapsed": false
   },
   "outputs": [
    {
     "data": {
      "text/plain": [
       "object     12\n",
       "float64     9\n",
       "int64       2\n",
       "Name: count, dtype: int64"
      ]
     },
     "execution_count": 186,
     "metadata": {},
     "output_type": "execute_result"
    }
   ],
   "source": [
    "(\n",
    "    df_airbnb\n",
    "    .dtypes\n",
    "    .value_counts()\n",
    ")"
   ]
  },
  {
   "cell_type": "markdown",
   "id": "4812473468082a87",
   "metadata": {
    "ExecuteTime": {
     "end_time": "2023-09-02T17:18:18.621259400Z",
     "start_time": "2023-09-02T17:18:18.396274500Z"
    },
    "collapsed": false
   },
   "source": [
    "#### What are the dimesions of the dataset? "
   ]
  },
  {
   "cell_type": "code",
   "execution_count": 187,
   "id": "645a18f27a04d2df",
   "metadata": {
    "ExecuteTime": {
     "end_time": "2023-09-02T17:36:46.571451600Z",
     "start_time": "2023-09-02T17:36:46.550777100Z"
    },
    "collapsed": false
   },
   "outputs": [
    {
     "data": {
      "text/plain": [
       "(102599, 23)"
      ]
     },
     "execution_count": 187,
     "metadata": {},
     "output_type": "execute_result"
    }
   ],
   "source": [
    "df_airbnb.shape"
   ]
  },
  {
   "cell_type": "markdown",
   "id": "afbd91a7995988e0",
   "metadata": {
    "ExecuteTime": {
     "end_time": "2023-09-02T17:18:10.181998600Z",
     "start_time": "2023-09-02T17:18:10.036999400Z"
    },
    "collapsed": false
   },
   "source": [
    "#### Are there explicit null values in the dataset?"
   ]
  },
  {
   "cell_type": "code",
   "execution_count": 188,
   "id": "12a2779a01e198b8",
   "metadata": {
    "ExecuteTime": {
     "end_time": "2023-09-02T17:36:48.987517100Z",
     "start_time": "2023-09-02T17:36:48.654260200Z"
    },
    "collapsed": false
   },
   "outputs": [
    {
     "data": {
      "text/plain": [
       "id                                False\n",
       "NAME                               True\n",
       "host id                           False\n",
       "host_identity_verified             True\n",
       "host name                          True\n",
       "neighbourhood group                True\n",
       "neighbourhood                      True\n",
       "lat                                True\n",
       "long                               True\n",
       "instant_bookable                   True\n",
       "cancellation_policy                True\n",
       "room type                         False\n",
       "Construction year                  True\n",
       "price                              True\n",
       "service fee                        True\n",
       "minimum nights                     True\n",
       "number of reviews                  True\n",
       "last review                        True\n",
       "reviews per month                  True\n",
       "review rate number                 True\n",
       "calculated host listings count     True\n",
       "availability 365                   True\n",
       "house_rules                        True\n",
       "dtype: bool"
      ]
     },
     "execution_count": 188,
     "metadata": {},
     "output_type": "execute_result"
    }
   ],
   "source": [
    "df_airbnb.isnull().any()"
   ]
  },
  {
   "cell_type": "markdown",
   "id": "72f9209433e86d67",
   "metadata": {
    "ExecuteTime": {
     "end_time": "2023-09-02T17:18:10.223036300Z",
     "start_time": "2023-09-02T17:18:10.042997100Z"
    },
    "collapsed": false
   },
   "source": [
    "#### If there are observations with null values, how many do we have for each variable?"
   ]
  },
  {
   "cell_type": "code",
   "execution_count": 189,
   "id": "fe7401140017609c",
   "metadata": {
    "ExecuteTime": {
     "end_time": "2023-09-02T17:36:52.615870800Z",
     "start_time": "2023-09-02T17:36:52.281292400Z"
    },
    "collapsed": false
   },
   "outputs": [
    {
     "data": {
      "text/plain": [
       "house_rules                       52131\n",
       "last review                       15893\n",
       "reviews per month                 15879\n",
       "availability 365                    448\n",
       "minimum nights                      409\n",
       "host name                           406\n",
       "review rate number                  326\n",
       "calculated host listings count      319\n",
       "host_identity_verified              289\n",
       "service fee                         273\n",
       "NAME                                250\n",
       "price                               247\n",
       "Construction year                   214\n",
       "number of reviews                   183\n",
       "instant_bookable                    105\n",
       "cancellation_policy                  76\n",
       "neighbourhood group                  29\n",
       "neighbourhood                        16\n",
       "lat                                   8\n",
       "long                                  8\n",
       "id                                    0\n",
       "host id                               0\n",
       "room type                             0\n",
       "dtype: int64"
      ]
     },
     "execution_count": 189,
     "metadata": {},
     "output_type": "execute_result"
    }
   ],
   "source": [
    "(\n",
    "    df_airbnb\n",
    "    .isnull()\n",
    "    .sum()\n",
    "    .sort_values(ascending=False)\n",
    ")\n"
   ]
  },
  {
   "cell_type": "markdown",
   "id": "ab302256e8f80661",
   "metadata": {
    "ExecuteTime": {
     "end_time": "2023-09-02T17:18:10.259033500Z",
     "start_time": "2023-09-02T17:18:10.075994300Z"
    },
    "collapsed": false
   },
   "source": [
    "#### What is the proportion of null values for each variable?"
   ]
  },
  {
   "cell_type": "code",
   "execution_count": 190,
   "id": "aefe9355",
   "metadata": {
    "ExecuteTime": {
     "end_time": "2023-09-02T17:37:00.984210700Z",
     "start_time": "2023-09-02T17:36:54.992663300Z"
    }
   },
   "outputs": [
    {
     "data": {
      "text/plain": [
       "<seaborn.axisgrid.FacetGrid at 0x7fb94dc75bb0>"
      ]
     },
     "execution_count": 190,
     "metadata": {},
     "output_type": "execute_result"
    },
    {
     "data": {
      "image/png": "[encoded data removed]",
      "text/plain": [
       "<Figure size 1084.88x500 with 1 Axes>"
      ]
     },
     "metadata": {},
     "output_type": "display_data"
    }
   ],
   "source": [
    "(\n",
    "    df_airbnb\n",
    "    .isnull()\n",
    "    .melt(value_name='missing')\n",
    "    .pipe(\n",
    "        lambda df: (\n",
    "            sns.displot(\n",
    "                data=df,\n",
    "                y='variable',\n",
    "                hue='missing',\n",
    "                multiple='fill',\n",
    "                aspect=2\n",
    "            )\n",
    "        )\n",
    "    )\n",
    ")"
   ]
  },
  {
   "cell_type": "markdown",
   "id": "cc82e0ba225d9e94",
   "metadata": {
    "ExecuteTime": {
     "start_time": "2023-09-02T17:18:10.139996100Z"
    },
    "collapsed": false
   },
   "source": [
    "#### How many total null values do we have in the dataset?"
   ]
  },
  {
   "cell_type": "code",
   "execution_count": 191,
   "id": "b8b1681424f7b07",
   "metadata": {
    "ExecuteTime": {
     "end_time": "2023-09-02T17:37:02.564970800Z",
     "start_time": "2023-09-02T17:37:02.231850300Z"
    },
    "collapsed": false
   },
   "outputs": [
    {
     "data": {
      "text/plain": [
       "87509"
      ]
     },
     "execution_count": 191,
     "metadata": {},
     "output_type": "execute_result"
    }
   ],
   "source": [
    "(\n",
    "    df_airbnb\n",
    "    .isnull()\n",
    "    .sum()\n",
    "    .sum()\n",
    ")"
   ]
  },
  {
   "cell_type": "markdown",
   "id": "b5e06b25",
   "metadata": {
    "ExecuteTime": {
     "start_time": "2023-09-02T17:18:10.141997100Z"
    }
   },
   "source": [
    "## Transform "
   ]
  },
  {
   "cell_type": "markdown",
   "id": "35250c6a",
   "metadata": {},
   "source": [
    "#### We standardize the names"
   ]
  },
  {
   "cell_type": "code",
   "execution_count": 192,
   "id": "b58a2724",
   "metadata": {
    "ExecuteTime": {
     "end_time": "2023-09-02T17:37:07.293745500Z",
     "start_time": "2023-09-02T17:37:07.255746Z"
    }
   },
   "outputs": [],
   "source": [
    "new_column_names = [x.lower().replace(\" \", \"_\") for x in df_airbnb.columns]\n",
    "df_airbnb.columns = new_column_names"
   ]
  },
  {
   "cell_type": "markdown",
   "metadata": {},
   "source": [
    "#### We remove records that have a repeated ID."
   ]
  },
  {
   "cell_type": "code",
   "execution_count": 193,
   "metadata": {},
   "outputs": [],
   "source": [
    "df_airbnb = df_airbnb.drop_duplicates(subset='id', keep='first')"
   ]
  },
  {
   "cell_type": "markdown",
   "metadata": {},
   "source": [
    "#### We remove records that have a repeated host_id."
   ]
  },
  {
   "cell_type": "code",
   "execution_count": 194,
   "metadata": {},
   "outputs": [],
   "source": [
    "df_airbnb = df_airbnb.drop_duplicates(subset='host_id', keep='first')"
   ]
  },
  {
   "cell_type": "markdown",
   "id": "cea1b64c",
   "metadata": {},
   "source": [
    "#### Since the \"host_identity_verified\" attribute has null values, we are going to fill those values with \"unverified\"."
   ]
  },
  {
   "cell_type": "code",
   "execution_count": 195,
   "id": "98da47ec",
   "metadata": {
    "ExecuteTime": {
     "end_time": "2023-09-02T17:37:17.354242200Z",
     "start_time": "2023-09-02T17:37:17.024245100Z"
    }
   },
   "outputs": [
    {
     "data": {
      "text/html": [
       "<div>\n",
       "<style scoped>\n",
       "    .dataframe tbody tr th:only-of-type {\n",
       "        vertical-align: middle;\n",
       "    }\n",
       "\n",
       "    .dataframe tbody tr th {\n",
       "        vertical-align: top;\n",
       "    }\n",
       "\n",
       "    .dataframe thead th {\n",
       "        text-align: right;\n",
       "    }\n",
       "</style>\n",
       "<table border=\"1\" class=\"dataframe\">\n",
       "  <thead>\n",
       "    <tr style=\"text-align: right;\">\n",
       "      <th></th>\n",
       "      <th>id</th>\n",
       "      <th>name</th>\n",
       "      <th>host_id</th>\n",
       "      <th>host_identity_verified</th>\n",
       "      <th>host_name</th>\n",
       "      <th>neighbourhood_group</th>\n",
       "      <th>neighbourhood</th>\n",
       "      <th>lat</th>\n",
       "      <th>long</th>\n",
       "      <th>instant_bookable</th>\n",
       "      <th>...</th>\n",
       "      <th>price</th>\n",
       "      <th>service_fee</th>\n",
       "      <th>minimum_nights</th>\n",
       "      <th>number_of_reviews</th>\n",
       "      <th>last_review</th>\n",
       "      <th>reviews_per_month</th>\n",
       "      <th>review_rate_number</th>\n",
       "      <th>calculated_host_listings_count</th>\n",
       "      <th>availability_365</th>\n",
       "      <th>house_rules</th>\n",
       "    </tr>\n",
       "  </thead>\n",
       "  <tbody>\n",
       "    <tr>\n",
       "      <th>0</th>\n",
       "      <td>1001254</td>\n",
       "      <td>Clean  quiet apt home by the park</td>\n",
       "      <td>80014485718</td>\n",
       "      <td>unconfirmed</td>\n",
       "      <td>Madaline</td>\n",
       "      <td>Brooklyn</td>\n",
       "      <td>Kensington</td>\n",
       "      <td>40.64749</td>\n",
       "      <td>-73.97237</td>\n",
       "      <td>False</td>\n",
       "      <td>...</td>\n",
       "      <td>$966</td>\n",
       "      <td>$193</td>\n",
       "      <td>10.0</td>\n",
       "      <td>9.0</td>\n",
       "      <td>10/19/2021</td>\n",
       "      <td>0.21</td>\n",
       "      <td>4.0</td>\n",
       "      <td>6.0</td>\n",
       "      <td>286.0</td>\n",
       "      <td>Clean up and treat the home the way youd like ...</td>\n",
       "    </tr>\n",
       "    <tr>\n",
       "      <th>1</th>\n",
       "      <td>1002102</td>\n",
       "      <td>Skylit Midtown Castle</td>\n",
       "      <td>52335172823</td>\n",
       "      <td>verified</td>\n",
       "      <td>Jenna</td>\n",
       "      <td>Manhattan</td>\n",
       "      <td>Midtown</td>\n",
       "      <td>40.75362</td>\n",
       "      <td>-73.98377</td>\n",
       "      <td>False</td>\n",
       "      <td>...</td>\n",
       "      <td>$142</td>\n",
       "      <td>$28</td>\n",
       "      <td>30.0</td>\n",
       "      <td>45.0</td>\n",
       "      <td>5/21/2022</td>\n",
       "      <td>0.38</td>\n",
       "      <td>4.0</td>\n",
       "      <td>2.0</td>\n",
       "      <td>228.0</td>\n",
       "      <td>Pet friendly but please confirm with me if the...</td>\n",
       "    </tr>\n",
       "  </tbody>\n",
       "</table>\n",
       "<p>2 rows × 23 columns</p>\n",
       "</div>"
      ],
      "text/plain": [
       "        id                               name      host_id  \\\n",
       "0  1001254  Clean  quiet apt home by the park  80014485718   \n",
       "1  1002102              Skylit Midtown Castle  52335172823   \n",
       "\n",
       "  host_identity_verified host_name neighbourhood_group neighbourhood  \\\n",
       "0            unconfirmed  Madaline            Brooklyn    Kensington   \n",
       "1               verified     Jenna           Manhattan       Midtown   \n",
       "\n",
       "        lat      long instant_bookable  ...  price service_fee  \\\n",
       "0  40.64749 -73.97237            False  ...  $966        $193    \n",
       "1  40.75362 -73.98377            False  ...  $142         $28    \n",
       "\n",
       "   minimum_nights number_of_reviews last_review  reviews_per_month  \\\n",
       "0            10.0               9.0  10/19/2021               0.21   \n",
       "1            30.0              45.0   5/21/2022               0.38   \n",
       "\n",
       "   review_rate_number calculated_host_listings_count  availability_365  \\\n",
       "0                 4.0                            6.0             286.0   \n",
       "1                 4.0                            2.0             228.0   \n",
       "\n",
       "                                         house_rules  \n",
       "0  Clean up and treat the home the way youd like ...  \n",
       "1  Pet friendly but please confirm with me if the...  \n",
       "\n",
       "[2 rows x 23 columns]"
      ]
     },
     "execution_count": 195,
     "metadata": {},
     "output_type": "execute_result"
    }
   ],
   "source": [
    "df_airbnb[\"host_identity_verified\"].fillna(\"unverified\", inplace=True)\n",
    "df_airbnb.head(2)"
   ]
  },
  {
   "cell_type": "markdown",
   "id": "3d474c91",
   "metadata": {},
   "source": [
    "#### It is neccesaty to delete the '$' symbol from columns price and service_fee"
   ]
  },
  {
   "cell_type": "code",
   "execution_count": 196,
   "id": "038167f9",
   "metadata": {
    "ExecuteTime": {
     "end_time": "2023-09-02T17:37:22.760148500Z",
     "start_time": "2023-09-02T17:37:22.315535800Z"
    }
   },
   "outputs": [
    {
     "data": {
      "text/plain": [
       "0"
      ]
     },
     "execution_count": 196,
     "metadata": {},
     "output_type": "execute_result"
    }
   ],
   "source": [
    "df_airbnb[\"price\"] = df_airbnb[\"price\"].str.replace('$', '').str.replace(',', '').str.strip()\n",
    "df_airbnb[\"service_fee\"] = df_airbnb[\"service_fee\"].str.replace('$', '').str.replace(',', '').str.strip()\n",
    "\n",
    "# Convert the \"price\" and \"service_fee\" columns to floating-point values.\n",
    "df_airbnb[\"price\"] = df_airbnb[\"price\"].astype(float)\n",
    "df_airbnb[\"service_fee\"] = df_airbnb[\"service_fee\"].astype(float)\n",
    "\n",
    "# We verify that there is no record where the service fee is greater than the price.\n",
    "counter = df_airbnb[\"price\"] < df_airbnb[\"service_fee\"]\n",
    "count_greater_service_fee = counter.sum()\n",
    "count_greater_service_fee"
   ]
  },
  {
   "cell_type": "markdown",
   "id": "7e57351d",
   "metadata": {},
   "source": [
    "#### Clean the non-finite values in the \"Construction year\" column."
   ]
  },
  {
   "cell_type": "code",
   "execution_count": 197,
   "id": "1d216cc0",
   "metadata": {
    "ExecuteTime": {
     "end_time": "2023-09-02T17:37:24.961614300Z",
     "start_time": "2023-09-02T17:37:24.933616300Z"
    }
   },
   "outputs": [],
   "source": [
    "df_airbnb[\"construction_year\"] = df_airbnb[\"construction_year\"].replace([np.inf, -np.inf], np.nan)\n",
    "df_airbnb[\"construction_year\"] = df_airbnb[\"construction_year\"].fillna(0)  # Rellenar valores nulos con 0 "
   ]
  },
  {
   "cell_type": "markdown",
   "id": "768fde4b",
   "metadata": {},
   "source": [
    "#### We change the \"Construction year\" column from type float64 to int32 since years are integers."
   ]
  },
  {
   "cell_type": "code",
   "execution_count": 198,
   "id": "0dd9aca2",
   "metadata": {
    "ExecuteTime": {
     "end_time": "2023-09-02T17:37:27.485606300Z",
     "start_time": "2023-09-02T17:37:27.451610Z"
    }
   },
   "outputs": [],
   "source": [
    "df_airbnb[\"construction_year\"] = df_airbnb[\"construction_year\"].astype(int)"
   ]
  },
  {
   "cell_type": "markdown",
   "id": "5cce1ce5",
   "metadata": {
    "ExecuteTime": {
     "start_time": "2023-09-02T17:18:10.166001300Z"
    }
   },
   "source": [
    "#### Replace null values with 0 in the \"last review\" and \"reviews per month\" columns when the \"number of reviews\" column is 0."
   ]
  },
  {
   "cell_type": "code",
   "execution_count": 199,
   "id": "c7257afd",
   "metadata": {
    "ExecuteTime": {
     "end_time": "2023-09-02T17:37:29.510453Z",
     "start_time": "2023-09-02T17:37:29.427457400Z"
    }
   },
   "outputs": [
    {
     "name": "stdout",
     "output_type": "stream",
     "text": [
      "              id                                              name  \\\n",
      "2        1002403                    THE VILLAGE OF HARLEMNEW YORK    \n",
      "20       1012382                  Huge  BR Upper East  Cental Park   \n",
      "27       1016248  Magnifique Suite au N de Manhattan  vue Cloitres   \n",
      "37       1021771                       Clean and Quiet in Brooklyn   \n",
      "39       1022876                         Country space in the city   \n",
      "...          ...                                               ...   \n",
      "102035  57355267  rooms in sunny Loft right off the Bedford L stop   \n",
      "102037  57356371                                      Bx Apartment   \n",
      "102045  57360790        Private Bedroom in Rego Park  Forest Hills   \n",
      "102051  57364103                A cozy getaway home away from home   \n",
      "102056  57366865         Room  private bathroom in historic Harlem   \n",
      "\n",
      "            host_id host_identity_verified host_name neighbourhood_group  \\\n",
      "2       78829239556             unverified     Elise           Manhattan   \n",
      "20      79805143117               verified    Audrey           Manhattan   \n",
      "27      38811420224               verified  Adrianna           Manhattan   \n",
      "37      26207748876               verified    Arthur            Brooklyn   \n",
      "39      49725315867               verified    Deanna            Brooklyn   \n",
      "...             ...                    ...       ...                 ...   \n",
      "102035   6043744134               verified      Anna            Brooklyn   \n",
      "102037  11038605149            unconfirmed       Vii               Bronx   \n",
      "102045  15978912806            unconfirmed       NaN              Queens   \n",
      "102051  55697801194               verified    Isaiah            Brooklyn   \n",
      "102056  15593031571            unconfirmed   Shireen           Manhattan   \n",
      "\n",
      "             neighbourhood       lat      long instant_bookable  ...   price  \\\n",
      "2                   Harlem  40.80902 -73.94190             True  ...   620.0   \n",
      "20             East Harlem  40.79685 -73.94872              NaN  ...   281.0   \n",
      "27                  Inwood  40.86754 -73.92639              NaN  ...   274.0   \n",
      "37      Bedford-Stuyvesant  40.68876 -73.94312            False  ...   203.0   \n",
      "39                Flatbush  40.63702 -73.96327             True  ...  1020.0   \n",
      "...                    ...       ...       ...              ...  ...     ...   \n",
      "102035        Williamsburg  40.71612 -73.95983             True  ...   138.0   \n",
      "102037           Olinville  40.88438 -73.86397             True  ...   531.0   \n",
      "102045           Rego Park  40.72460 -73.85688            False  ...     NaN   \n",
      "102051       East New York  40.66130 -73.89088             True  ...   147.0   \n",
      "102056              Harlem  40.81248 -73.94317             True  ...   848.0   \n",
      "\n",
      "       service_fee  minimum_nights  number_of_reviews  last_review  \\\n",
      "2            124.0             3.0                0.0          NaN   \n",
      "20            56.0             7.0                0.0          NaN   \n",
      "27            55.0             4.0                0.0          NaN   \n",
      "37            41.0            60.0                0.0          NaN   \n",
      "39           204.0             1.0                0.0          NaN   \n",
      "...            ...             ...                ...          ...   \n",
      "102035         NaN            22.0                0.0          NaN   \n",
      "102037         NaN             1.0                0.0          NaN   \n",
      "102045         NaN             1.0                0.0          NaN   \n",
      "102051         NaN             1.0                0.0          NaN   \n",
      "102056         NaN             2.0                0.0          NaN   \n",
      "\n",
      "        reviews_per_month  review_rate_number calculated_host_listings_count  \\\n",
      "2                     NaN                 5.0                            1.0   \n",
      "20                    NaN                 3.0                            2.0   \n",
      "27                    NaN                 NaN                            1.0   \n",
      "37                    NaN                 NaN                            1.0   \n",
      "39                    NaN                 3.0                            1.0   \n",
      "...                   ...                 ...                            ...   \n",
      "102035                NaN                 4.0                            2.0   \n",
      "102037                NaN                 3.0                            1.0   \n",
      "102045                NaN                 3.0                            1.0   \n",
      "102051                NaN                 4.0                            1.0   \n",
      "102056                NaN                 1.0                            1.0   \n",
      "\n",
      "        availability_365                                        house_rules  \n",
      "2                  352.0  I encourage you to use my kitchen cooking and ...  \n",
      "20                 347.0  No smoking No pets  No shoes in the house Visi...  \n",
      "27                  96.0  To treat our home with respect  No smoking ins...  \n",
      "37                 294.0  NO Shoes in the house This is why my house is ...  \n",
      "39                 356.0  House Guidelines for our BnB We are delighted ...  \n",
      "...                  ...                                                ...  \n",
      "102035               0.0  In the kitchen the primary thing would be to w...  \n",
      "102037               0.0                                               NAME  \n",
      "102045               0.0                                                NaN  \n",
      "102051              88.0                                                NaN  \n",
      "102056               0.0  Each of us is working andor going to school at...  \n",
      "\n",
      "[15673 rows x 23 columns]\n",
      "Registros nulos en last review: 15673\n",
      "Registros nulos en reviews per month: 15673\n"
     ]
    }
   ],
   "source": [
    "filtered_df = df_airbnb[df_airbnb[\"number_of_reviews\"] == 0]\n",
    "# Show the filtered records.\n",
    "print(filtered_df)\n",
    "\n",
    "# Count the null values in the \"last_review\" column.\n",
    "null_last_review = filtered_df[\"last_review\"].isnull().sum()\n",
    "# Count the null values in the \"reviews_per_month\" column.\n",
    "null_reviews_per_month = filtered_df[\"reviews_per_month\"].isnull().sum()"
   ]
  },
  {
   "cell_type": "code",
   "execution_count": 200,
   "id": "d98503a5",
   "metadata": {
    "ExecuteTime": {
     "end_time": "2023-09-02T17:37:33.606744300Z",
     "start_time": "2023-09-02T17:37:33.576666200Z"
    }
   },
   "outputs": [],
   "source": [
    "df_airbnb.loc[df_airbnb[\"number_of_reviews\"] == 0, \"reviews_per_month\"] = 0"
   ]
  },
  {
   "cell_type": "markdown",
   "id": "d445b96e",
   "metadata": {},
   "source": [
    "#### Replace null values in the \"house_rules,\" \"minimum nights,\" and \"instant_bookable\" columns."
   ]
  },
  {
   "cell_type": "code",
   "execution_count": 201,
   "id": "d0670bbc",
   "metadata": {
    "ExecuteTime": {
     "end_time": "2023-09-02T17:37:39.542777Z",
     "start_time": "2023-09-02T17:37:39.441782400Z"
    }
   },
   "outputs": [],
   "source": [
    "df_airbnb[\"house_rules\"] = df_airbnb[\"house_rules\"].fillna(\"No se Especificaron Las Reglas\")\n",
    "df_airbnb[\"minimum_nights\"] = df_airbnb[\"minimum_nights\"].fillna(1)\n",
    "df_airbnb[\"instant_bookable\"] = df_airbnb[\"instant_bookable\"].fillna(False)"
   ]
  },
  {
   "cell_type": "markdown",
   "metadata": {},
   "source": [
    "##### Remove the columns related to neighborhoods and coordinates (lat, long)."
   ]
  },
  {
   "cell_type": "code",
   "execution_count": 202,
   "metadata": {},
   "outputs": [],
   "source": [
    "df_airbnb.drop([\"neighbourhood_group\",\"neighbourhood\", \"lat\", \"long\"], inplace=True, axis=\"columns\")"
   ]
  },
  {
   "cell_type": "markdown",
   "metadata": {},
   "source": [
    "##### Creation of the \"city\" column. We will randomly assign values that match the cities from the API."
   ]
  },
  {
   "cell_type": "code",
   "execution_count": 203,
   "metadata": {},
   "outputs": [],
   "source": [
    "cities = [\n",
    "    'New York', 'Harper Woods', 'Huntington Park', 'Oasis Spring', 'Coalville', 'Chicago', 'Seattle', 'Baltimore',\n",
    "    'Ducktown', 'Mullica Hill', 'Willingboro', 'Middletown', 'Houston', 'Boston', 'San Diego', 'Ravenswood', 'Seaside Heights',\n",
    "    'Isla Vista', 'Beeville', 'Holderness']\n",
    "# Add city column based on the city that we extract from the api\n",
    "df_airbnb[\"city\"] = np.random.randint(1, len(cities) + 1, size=len(df_airbnb))\n"
   ]
  },
  {
   "cell_type": "code",
   "execution_count": 204,
   "id": "dc47b182420f7127",
   "metadata": {
    "ExecuteTime": {
     "end_time": "2023-09-02T17:38:42.776614200Z",
     "start_time": "2023-09-02T17:38:42.519616100Z"
    },
    "collapsed": false
   },
   "outputs": [
    {
     "data": {
      "text/plain": [
       "last_review                       15832\n",
       "availability_365                    448\n",
       "host_name                           404\n",
       "calculated_host_listings_count      319\n",
       "review_rate_number                  319\n",
       "service_fee                         273\n",
       "name                                249\n",
       "price                               247\n",
       "number_of_reviews                   183\n",
       "reviews_per_month                   145\n",
       "cancellation_policy                  76\n",
       "house_rules                           0\n",
       "id                                    0\n",
       "minimum_nights                        0\n",
       "construction_year                     0\n",
       "room_type                             0\n",
       "instant_bookable                      0\n",
       "host_identity_verified                0\n",
       "host_id                               0\n",
       "city                                  0\n",
       "dtype: int64"
      ]
     },
     "execution_count": 204,
     "metadata": {},
     "output_type": "execute_result"
    }
   ],
   "source": [
    "(\n",
    "    df_airbnb\n",
    "    .isnull()\n",
    "    .sum()\n",
    "    .sort_values(ascending=False)\n",
    ")\n"
   ]
  },
  {
   "cell_type": "markdown",
   "metadata": {},
   "source": [
    "#### Merge with the API"
   ]
  },
  {
   "cell_type": "markdown",
   "metadata": {},
   "source": [
    "#### Fetch data from the API that will be part of a dimension in the Data Warehouse."
   ]
  },
  {
   "cell_type": "markdown",
   "id": "51b08110",
   "metadata": {},
   "source": [
    "#### Creating Dimensions "
   ]
  },
  {
   "cell_type": "code",
   "execution_count": 205,
   "id": "6894f72f",
   "metadata": {
    "ExecuteTime": {
     "start_time": "2023-09-02T17:18:10.178994200Z"
    }
   },
   "outputs": [],
   "source": [
    "prices_table = pd.read_csv('../Data/df1_API.csv')\n",
    "prices_table.drop([\"Unnamed: 0\",\"usd\", \"measure\", \"currency_code\"], inplace=True, axis=\"columns\")\n",
    "\n",
    "prices_table.reset_index(inplace=True)"
   ]
  },
  {
   "cell_type": "markdown",
   "metadata": {},
   "source": [
    "#### Creating \"middle_table\" between prices and airbnb_transactions"
   ]
  },
  {
   "cell_type": "code",
   "execution_count": 206,
   "metadata": {},
   "outputs": [],
   "source": [
    "cities = [\n",
    "    'New York', 'Harper Woods', 'Huntington Park', 'Oasis Spring', 'Coalville', 'Chicago', 'Seattle', 'Baltimore',\n",
    "    'Ducktown', 'Mullica Hill', 'Willingboro', 'Middletown', 'Houston', 'Boston', 'San Diego', 'Ravenswood', 'Seaside Heights',\n",
    "    'Isla Vista', 'Beeville', 'Holderness'\n",
    "]\n",
    "\n",
    "id_cities = []\n",
    "city_names = []\n",
    "\n",
    "count = 1\n",
    "\n",
    "for city in cities:\n",
    "    id_cities.append(count)\n",
    "    city_names.append(city)\n",
    "    count += 1 \n",
    "\n",
    "middle_table = pd.DataFrame({\n",
    "    'id_city': id_cities,\n",
    "    'city': city_names\n",
    "})\n"
   ]
  },
  {
   "cell_type": "code",
   "execution_count": 207,
   "id": "02d01933",
   "metadata": {},
   "outputs": [
    {
     "data": {
      "text/html": [
       "<div>\n",
       "<style scoped>\n",
       "    .dataframe tbody tr th:only-of-type {\n",
       "        vertical-align: middle;\n",
       "    }\n",
       "\n",
       "    .dataframe tbody tr th {\n",
       "        vertical-align: top;\n",
       "    }\n",
       "\n",
       "    .dataframe thead th {\n",
       "        text-align: right;\n",
       "    }\n",
       "</style>\n",
       "<table border=\"1\" class=\"dataframe\">\n",
       "  <thead>\n",
       "    <tr style=\"text-align: right;\">\n",
       "      <th></th>\n",
       "      <th>host_id</th>\n",
       "      <th>host_name</th>\n",
       "      <th>host_identity_verified</th>\n",
       "    </tr>\n",
       "  </thead>\n",
       "  <tbody>\n",
       "    <tr>\n",
       "      <th>0</th>\n",
       "      <td>80014485718</td>\n",
       "      <td>Madaline</td>\n",
       "      <td>unconfirmed</td>\n",
       "    </tr>\n",
       "    <tr>\n",
       "      <th>1</th>\n",
       "      <td>52335172823</td>\n",
       "      <td>Jenna</td>\n",
       "      <td>verified</td>\n",
       "    </tr>\n",
       "  </tbody>\n",
       "</table>\n",
       "</div>"
      ],
      "text/plain": [
       "       host_id host_name host_identity_verified\n",
       "0  80014485718  Madaline            unconfirmed\n",
       "1  52335172823     Jenna               verified"
      ]
     },
     "execution_count": 207,
     "metadata": {},
     "output_type": "execute_result"
    }
   ],
   "source": [
    "host_table = df_airbnb[[\"host_id\", \"host_name\", \"host_identity_verified\"]]"
   ]
  },
  {
   "cell_type": "code",
   "execution_count": 208,
   "id": "ecd0bcae",
   "metadata": {
    "ExecuteTime": {
     "start_time": "2023-09-02T17:18:10.180031100Z"
    }
   },
   "outputs": [
    {
     "data": {
      "text/html": [
       "<div>\n",
       "<style scoped>\n",
       "    .dataframe tbody tr th:only-of-type {\n",
       "        vertical-align: middle;\n",
       "    }\n",
       "\n",
       "    .dataframe tbody tr th {\n",
       "        vertical-align: top;\n",
       "    }\n",
       "\n",
       "    .dataframe thead th {\n",
       "        text-align: right;\n",
       "    }\n",
       "</style>\n",
       "<table border=\"1\" class=\"dataframe\">\n",
       "  <thead>\n",
       "    <tr style=\"text-align: right;\">\n",
       "      <th></th>\n",
       "      <th>id</th>\n",
       "      <th>name</th>\n",
       "      <th>instant_bookable</th>\n",
       "      <th>cancellation_policy</th>\n",
       "      <th>room_type</th>\n",
       "      <th>construction_year</th>\n",
       "      <th>minimum_nights</th>\n",
       "      <th>number_of_reviews</th>\n",
       "      <th>last_review</th>\n",
       "      <th>reviews_per_month</th>\n",
       "      <th>review_rate_number</th>\n",
       "      <th>calculated_host_listings_count</th>\n",
       "      <th>availability_365</th>\n",
       "      <th>house_rules</th>\n",
       "    </tr>\n",
       "  </thead>\n",
       "  <tbody>\n",
       "    <tr>\n",
       "      <th>0</th>\n",
       "      <td>1001254</td>\n",
       "      <td>Clean  quiet apt home by the park</td>\n",
       "      <td>False</td>\n",
       "      <td>strict</td>\n",
       "      <td>Private room</td>\n",
       "      <td>2020</td>\n",
       "      <td>10.0</td>\n",
       "      <td>9.0</td>\n",
       "      <td>10/19/2021</td>\n",
       "      <td>0.21</td>\n",
       "      <td>4.0</td>\n",
       "      <td>6.0</td>\n",
       "      <td>286.0</td>\n",
       "      <td>Clean up and treat the home the way youd like ...</td>\n",
       "    </tr>\n",
       "    <tr>\n",
       "      <th>1</th>\n",
       "      <td>1002102</td>\n",
       "      <td>Skylit Midtown Castle</td>\n",
       "      <td>False</td>\n",
       "      <td>moderate</td>\n",
       "      <td>Entire home/apt</td>\n",
       "      <td>2007</td>\n",
       "      <td>30.0</td>\n",
       "      <td>45.0</td>\n",
       "      <td>5/21/2022</td>\n",
       "      <td>0.38</td>\n",
       "      <td>4.0</td>\n",
       "      <td>2.0</td>\n",
       "      <td>228.0</td>\n",
       "      <td>Pet friendly but please confirm with me if the...</td>\n",
       "    </tr>\n",
       "  </tbody>\n",
       "</table>\n",
       "</div>"
      ],
      "text/plain": [
       "        id                               name  instant_bookable  \\\n",
       "0  1001254  Clean  quiet apt home by the park             False   \n",
       "1  1002102              Skylit Midtown Castle             False   \n",
       "\n",
       "  cancellation_policy        room_type  construction_year  minimum_nights  \\\n",
       "0              strict     Private room               2020            10.0   \n",
       "1            moderate  Entire home/apt               2007            30.0   \n",
       "\n",
       "   number_of_reviews last_review  reviews_per_month  review_rate_number  \\\n",
       "0                9.0  10/19/2021               0.21                 4.0   \n",
       "1               45.0   5/21/2022               0.38                 4.0   \n",
       "\n",
       "   calculated_host_listings_count  availability_365  \\\n",
       "0                             6.0             286.0   \n",
       "1                             2.0             228.0   \n",
       "\n",
       "                                         house_rules  \n",
       "0  Clean up and treat the home the way youd like ...  \n",
       "1  Pet friendly but please confirm with me if the...  "
      ]
     },
     "execution_count": 208,
     "metadata": {},
     "output_type": "execute_result"
    }
   ],
   "source": [
    "airbnb_detail = df_airbnb[\n",
    "    [\"id\", \"name\", \"instant_bookable\", \n",
    "     \"cancellation_policy\", \"room_type\", \"construction_year\", \n",
    "    \"minimum_nights\", \"number_of_reviews\", \n",
    "     \"last_review\", \"reviews_per_month\", \"review_rate_number\", \"calculated_host_listings_count\", \n",
    "     \"availability_365\", \"house_rules\"]]"
   ]
  },
  {
   "cell_type": "markdown",
   "id": "d66cfe2b",
   "metadata": {
    "ExecuteTime": {
     "start_time": "2023-09-02T17:18:10.189004100Z"
    }
   },
   "source": [
    "### Proceso de limpieza a nuestra tabla de hecho (df_airbnb)"
   ]
  },
  {
   "cell_type": "code",
   "execution_count": 209,
   "id": "b3156de1",
   "metadata": {
    "ExecuteTime": {
     "start_time": "2023-09-02T17:18:10.193030300Z"
    }
   },
   "outputs": [],
   "source": [
    "#Delete the following columns since we already set up diferent tables to save all the information related with neighbourhoods and hosts\n",
    "df_airbnb.drop(\n",
    "         [\"name\", \"instant_bookable\", \n",
    "     \"cancellation_policy\", \"room_type\", \"construction_year\", \n",
    "     \"minimum_nights\", \"number_of_reviews\", \n",
    "     \"last_review\", \"reviews_per_month\", \"review_rate_number\", \n",
    "     \"calculated_host_listings_count\", \n",
    "     \"availability_365\", \"house_rules\", \"host_name\", \n",
    "     \"host_identity_verified\"], axis=1, inplace=True)"
   ]
  },
  {
   "cell_type": "code",
   "execution_count": 210,
   "metadata": {},
   "outputs": [],
   "source": [
    "# Creation of id_transaction based on index\n",
    "df_airbnb.reset_index(inplace=True)\n",
    "df_airbnb.rename(columns={'index': 'id_transaction', 'id': 'airbnb_id'}, inplace=True)"
   ]
  },
  {
   "cell_type": "markdown",
   "id": "c8bf7cbb",
   "metadata": {
    "ExecuteTime": {
     "start_time": "2023-09-02T17:18:10.199994Z"
    }
   },
   "source": [
    "### Load Proccess"
   ]
  },
  {
   "cell_type": "code",
   "execution_count": 212,
   "id": "dfc4f0b3",
   "metadata": {
    "ExecuteTime": {
     "start_time": "2023-09-02T17:18:10.200993700Z"
    }
   },
   "outputs": [],
   "source": [
    "#Creating session\n",
    "session2 = creating_session(engine)"
   ]
  },
  {
   "cell_type": "code",
   "execution_count": 213,
   "metadata": {},
   "outputs": [
    {
     "data": {
      "text/plain": [
       "420"
      ]
     },
     "execution_count": 213,
     "metadata": {},
     "output_type": "execute_result"
    }
   ],
   "source": [
    "# Send \"prices\" data to PG\n",
    "table = \"prices\"\n",
    "prices_table.to_sql(table, engine, if_exists=\"replace\", index=False)"
   ]
  },
  {
   "cell_type": "code",
   "execution_count": 214,
   "metadata": {},
   "outputs": [
    {
     "data": {
      "text/plain": [
       "20"
      ]
     },
     "execution_count": 214,
     "metadata": {},
     "output_type": "execute_result"
    }
   ],
   "source": [
    "# Send \"middile_table\" data to PG\n",
    "table = \"middle_table\"\n",
    "middle_table.to_sql(table, engine, if_exists=\"replace\", index=False)"
   ]
  },
  {
   "cell_type": "code",
   "execution_count": 215,
   "metadata": {},
   "outputs": [
    {
     "data": {
      "text/plain": [
       "57"
      ]
     },
     "execution_count": 215,
     "metadata": {},
     "output_type": "execute_result"
    }
   ],
   "source": [
    "# Send \"fact_table\" data to PG\n",
    "table = \"airbnb_transactions\"\n",
    "df_airbnb.to_sql(table, engine, if_exists=\"replace\", index=False)"
   ]
  },
  {
   "cell_type": "code",
   "execution_count": 216,
   "metadata": {},
   "outputs": [
    {
     "data": {
      "text/plain": [
       "57"
      ]
     },
     "execution_count": 216,
     "metadata": {},
     "output_type": "execute_result"
    }
   ],
   "source": [
    "# Send \"hosts\" data to PG\n",
    "table = \"hosts\"\n",
    "host_table.to_sql(table, engine, if_exists=\"replace\", index=False)"
   ]
  },
  {
   "cell_type": "code",
   "execution_count": 217,
   "metadata": {},
   "outputs": [
    {
     "data": {
      "text/plain": [
       "57"
      ]
     },
     "execution_count": 217,
     "metadata": {},
     "output_type": "execute_result"
    }
   ],
   "source": [
    "# # Send \"airbnbb_detail\" data to PG\n",
    "table = \"airbnb_detail\"\n",
    "airbnb_detail.to_sql(table, engine, if_exists=\"replace\", index=False)"
   ]
  },
  {
   "cell_type": "code",
   "execution_count": 218,
   "metadata": {},
   "outputs": [],
   "source": [
    "# Close the session\n",
    "closing_session(session2)"
   ]
  }
 ],
 "metadata": {
  "kernelspec": {
   "display_name": "Python 3",
   "language": "python",
   "name": "python3"
  },
  "language_info": {
   "codemirror_mode": {
    "name": "ipython",
    "version": 3
   },
   "file_extension": ".py",
   "mimetype": "text/x-python",
   "name": "python",
   "nbconvert_exporter": "python",
   "pygments_lexer": "ipython3",
   "version": "3.8.10"
  }
 },
 "nbformat": 4,
 "nbformat_minor": 5
}
